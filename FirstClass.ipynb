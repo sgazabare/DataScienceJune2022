{
 "cells": [
  {
   "cell_type": "code",
   "execution_count": 1,
   "id": "73317394",
   "metadata": {},
   "outputs": [
    {
     "name": "stdout",
     "output_type": "stream",
     "text": [
      "Hello World\n"
     ]
    }
   ],
   "source": [
    "print(\"Swetha Gazabare\")"
   ]
  },
  {
   "cell_type": "code",
   "execution_count": 2,
   "id": "ffe1a118",
   "metadata": {},
   "outputs": [
    {
     "name": "stdout",
     "output_type": "stream",
     "text": [
      "hello\n",
      "hello\n",
      "hello\n",
      "hello\n",
      "hello\n"
     ]
    }
   ],
   "source": [
    "for i in range(5):\n",
    "    print(\"hello\")"
   ]
  },
  {
   "cell_type": "code",
   "execution_count": null,
   "id": "54cf3e82",
   "metadata": {},
   "outputs": [],
   "source": [
    "# I love Watermelon and Mango"
   ]
  },
  {
   "cell_type": "code",
   "execution_count": 1,
   "id": "a14cd63b",
   "metadata": {},
   "outputs": [
    {
     "name": "stdout",
     "output_type": "stream",
     "text": [
      "I love Watermelon and Mango\n"
     ]
    }
   ],
   "source": [
    "fruit1='Watermelon'\n",
    "fruit2='Mango'\n",
    "print(\"I love\" + \" \" + fruit1 + \" \" + \"and\" + \" \" + fruit2)"
   ]
  },
  {
   "cell_type": "code",
   "execution_count": 6,
   "id": "dd162019",
   "metadata": {},
   "outputs": [
    {
     "name": "stdout",
     "output_type": "stream",
     "text": [
      "Please enter your name and age : swetha,12\n"
     ]
    }
   ],
   "source": [
    "# Stranger Things !\n",
    "# Ask user name and age\n",
    "# IF user's name starts with 's' and 'S' and age is above 14\n",
    "# out put you can watch Stanger things\n",
    "# print( you cannot watch stanger things )\n",
    "UserName,age=input(\"Please enter your name and age : \").split(',')\n"
   ]
  },
  {
   "cell_type": "code",
   "execution_count": null,
   "id": "830b4f8e",
   "metadata": {},
   "outputs": [],
   "source": []
  }
 ],
 "metadata": {
  "kernelspec": {
   "display_name": "Python 3 (ipykernel)",
   "language": "python",
   "name": "python3"
  },
  "language_info": {
   "codemirror_mode": {
    "name": "ipython",
    "version": 3
   },
   "file_extension": ".py",
   "mimetype": "text/x-python",
   "name": "python",
   "nbconvert_exporter": "python",
   "pygments_lexer": "ipython3",
   "version": "3.9.12"
  }
 },
 "nbformat": 4,
 "nbformat_minor": 5
}
