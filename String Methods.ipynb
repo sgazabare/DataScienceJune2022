{
 "cells": [
  {
   "cell_type": "code",
   "execution_count": 3,
   "id": "7e8a8d6a",
   "metadata": {},
   "outputs": [
    {
     "ename": "SyntaxError",
     "evalue": "EOL while scanning string literal (3687768494.py, line 1)",
     "output_type": "error",
     "traceback": [
      "\u001b[0;36m  Input \u001b[0;32mIn [3]\u001b[0;36m\u001b[0m\n\u001b[0;31m    number_one=int(\"input(please enter any number :\"\"))\u001b[0m\n\u001b[0m                                                       ^\u001b[0m\n\u001b[0;31mSyntaxError\u001b[0m\u001b[0;31m:\u001b[0m EOL while scanning string literal\n"
     ]
    }
   ],
   "source": [
    "number_one=int(\"input(please enter any number :\"\"))\n",
    "            \n",
    "               number_two=int(\"input(please enter any number :))\n",
    "                              print(type(number_one))\n",
    "                              print(type(number_two))\n",
    "                              \n",
    "                              "
   ]
  },
  {
   "cell_type": "code",
   "execution_count": 4,
   "id": "d7f6d669",
   "metadata": {},
   "outputs": [
    {
     "ename": "SyntaxError",
     "evalue": "invalid syntax (597699327.py, line 1)",
     "output_type": "error",
     "traceback": [
      "\u001b[0;36m  Input \u001b[0;32mIn [4]\u001b[0;36m\u001b[0m\n\u001b[0;31m    String Indexing/positioning\u001b[0m\n\u001b[0m           ^\u001b[0m\n\u001b[0;31mSyntaxError\u001b[0m\u001b[0;31m:\u001b[0m invalid syntax\n"
     ]
    }
   ],
   "source": [
    "String Indexing/positioning"
   ]
  },
  {
   "cell_type": "code",
   "execution_count": 1,
   "id": "27d948c4",
   "metadata": {},
   "outputs": [
    {
     "name": "stdout",
     "output_type": "stream",
     "text": [
      "nohtyP\n"
     ]
    }
   ],
   "source": [
    "#\"Python == nohtyP\"\n",
    "name=\"Python\"\n",
    "print(name[::-1])"
   ]
  },
  {
   "cell_type": "code",
   "execution_count": 2,
   "id": "9e25bf2a",
   "metadata": {},
   "outputs": [
    {
     "name": "stdout",
     "output_type": "stream",
     "text": [
      "ahtewS\n"
     ]
    }
   ],
   "source": [
    "name_two = \"Swetha\"\n",
    "print(name_two[5::-1])"
   ]
  },
  {
   "cell_type": "code",
   "execution_count": 12,
   "id": "2f991ca6",
   "metadata": {},
   "outputs": [
    {
     "name": "stdout",
     "output_type": "stream",
     "text": [
      "None\n"
     ]
    }
   ],
   "source": [
    "prod = [9,1,5,100]\n"
   ]
  },
  {
   "cell_type": "code",
   "execution_count": 13,
   "id": "e1de4150",
   "metadata": {},
   "outputs": [],
   "source": [
    "# take two input from the user\n",
    "# 1. user name\n",
    "# 2. character which wants to count in his/her name\n",
    "# output\n",
    "# length of user's name \n",
    "# character count in his/her name case insensitive\n",
    "\n",
    "# Sujay Shekhar, s"
   ]
  },
  {
   "cell_type": "code",
   "execution_count": 9,
   "id": "ee749bbb",
   "metadata": {},
   "outputs": [
    {
     "name": "stdout",
     "output_type": "stream",
     "text": [
      "user_name:Sujay Shekhar\n",
      "character which wants to count in his/her name :s\n",
      "13\n",
      "0\n"
     ]
    }
   ],
   "source": [
    "a=input(\"user_name:\")\n",
    "b=input(\"character which wants to count in his/her name :\")\n",
    "print(len(a))\n",
    "print(a.count(b))"
   ]
  },
  {
   "cell_type": "code",
   "execution_count": 10,
   "id": "9d698f11",
   "metadata": {},
   "outputs": [],
   "source": [
    "#Take user input Ask for his/her name\n",
    "# print the reverse of their names. Try to make the program in 2 lines"
   ]
  },
  {
   "cell_type": "code",
   "execution_count": 12,
   "id": "10097915",
   "metadata": {},
   "outputs": [
    {
     "name": "stdout",
     "output_type": "stream",
     "text": [
      "Enter his/her name :Swetha Gazabare is from India\n",
      "aidnI morf si erabazaG ahtewS\n"
     ]
    }
   ],
   "source": [
    "UserName=input(\"Enter his/her name :\")\n",
    "print(UserName[::-1])"
   ]
  },
  {
   "cell_type": "code",
   "execution_count": 13,
   "id": "d84df515",
   "metadata": {},
   "outputs": [
    {
     "name": "stdout",
     "output_type": "stream",
     "text": [
      "swetha\n",
      "sweTHa\n"
     ]
    }
   ],
   "source": [
    "# Immutable - that cannot be changed over time. Ex : String\n",
    "userName=\"sweTHa\"\n",
    "anotherVariable=userName.lower()\n",
    "userName.lower()\n",
    "print(anotherVariable)\n",
    "print(userName)"
   ]
  },
  {
   "cell_type": "code",
   "execution_count": 17,
   "id": "e1290f90",
   "metadata": {},
   "outputs": [
    {
     "name": "stdout",
     "output_type": "stream",
     "text": [
      "What's your age ? 12\n",
      "You're not allowed\n"
     ]
    }
   ],
   "source": [
    "#Conditions if - Else Statement\n",
    "userAge=int(input(\"What's your age ? \"))\n",
    "if userAge<=14:\n",
    "    print(\"You're not allowed\") ## Indentation\n",
    "else:\n",
    "    print(\"You're allowed\")"
   ]
  },
  {
   "cell_type": "code",
   "execution_count": 22,
   "id": "68e9fec3",
   "metadata": {},
   "outputs": [
    {
     "name": "stdout",
     "output_type": "stream",
     "text": [
      "Please enter your zipCode : 123456\n",
      "Success\n"
     ]
    }
   ],
   "source": [
    "zipCode = input(\"Please enter your zipCode : \")\n",
    "if len(zipCode) == 6:\n",
    "    print (\"Success\")\n",
    "else:\n",
    "    print(\"unsuccess\")"
   ]
  },
  {
   "cell_type": "code",
   "execution_count": 28,
   "id": "620fde12",
   "metadata": {},
   "outputs": [
    {
     "name": "stdout",
     "output_type": "stream",
     "text": [
      "Please enter a number : 782340\n",
      "Even number\n"
     ]
    }
   ],
   "source": [
    "# Even OR Odd\n",
    "number=int(input(\"Please enter a number : \"))\n",
    "if number%2 != 0:\n",
    "    print(\"Odd number\")\n",
    "else:\n",
    "    print(\"Even number\")"
   ]
  },
  {
   "cell_type": "code",
   "execution_count": 38,
   "id": "16eaa227",
   "metadata": {},
   "outputs": [
    {
     "ename": "SyntaxError",
     "evalue": "invalid syntax (943138905.py, line 9)",
     "output_type": "error",
     "traceback": [
      "\u001b[0;36m  Input \u001b[0;32mIn [38]\u001b[0;36m\u001b[0m\n\u001b[0;31m    else number > 26:\u001b[0m\n\u001b[0m         ^\u001b[0m\n\u001b[0;31mSyntaxError\u001b[0m\u001b[0;31m:\u001b[0m invalid syntax\n"
     ]
    }
   ],
   "source": [
    "#Number Guessing Game\n",
    "# Ask user to input a number and check if it is matching the winning number or not\n",
    "# if the number is guessed is more than the winning number (26) print too high\n",
    "# and if its less than the winning number print too low.\n",
    "\n",
    "number = int(input(\"Please enter a number : \"))\n",
    "if number < 26:\n",
    "             print(\" Too low\")\n",
    "else number > 26:\n",
    "             print(\"Too high\")\n",
    "if number = 26:\n",
    "             print(\"you won\")"
   ]
  },
  {
   "cell_type": "code",
   "execution_count": 40,
   "id": "14b45813",
   "metadata": {},
   "outputs": [
    {
     "name": "stdout",
     "output_type": "stream",
     "text": [
      "U am learning python programming language. U want to be a programmer\n"
     ]
    }
   ],
   "source": [
    "#sentence = \"I am learning python programming language. I want to be a programmer\" - change 1st I to U\n",
    "\n",
    "sentence  = \"I am learning python programming language. I want to be a programmer\"\n",
    "print(sentence.replace(\"I\",\"U\"))"
   ]
  },
  {
   "cell_type": "code",
   "execution_count": null,
   "id": "89c7b406",
   "metadata": {},
   "outputs": [],
   "source": []
  }
 ],
 "metadata": {
  "kernelspec": {
   "display_name": "Python 3 (ipykernel)",
   "language": "python",
   "name": "python3"
  },
  "language_info": {
   "codemirror_mode": {
    "name": "ipython",
    "version": 3
   },
   "file_extension": ".py",
   "mimetype": "text/x-python",
   "name": "python",
   "nbconvert_exporter": "python",
   "pygments_lexer": "ipython3",
   "version": "3.9.12"
  }
 },
 "nbformat": 4,
 "nbformat_minor": 5
}
