{
 "cells": [
  {
   "cell_type": "markdown",
   "metadata": {},
   "source": [
    "## Python Variables\n",
    "* Variables are containers for storing data values\n",
    "* A variable is created the moment you first assign a value to it.\n",
    "* Unlike other programming languages,you dont have to declare the type of variable in python"
   ]
  },
  {
   "cell_type": "code",
   "execution_count": 5,
   "metadata": {},
   "outputs": [
    {
     "name": "stdout",
     "output_type": "stream",
     "text": [
      "1234\n"
     ]
    }
   ],
   "source": [
    "number = 1234\n",
    "print(number)"
   ]
  },
  {
   "cell_type": "code",
   "execution_count": 2,
   "metadata": {},
   "outputs": [
    {
     "name": "stdout",
     "output_type": "stream",
     "text": [
      "WHat is your name ? Sujay Shekhar\n",
      "Sujay Shekhar\n"
     ]
    }
   ],
   "source": [
    "\n",
    "print(username)"
   ]
  },
  {
   "cell_type": "code",
   "execution_count": 4,
   "metadata": {},
   "outputs": [
    {
     "name": "stdout",
     "output_type": "stream",
     "text": [
      "what is your name ? Sujay Shekhar\n",
      "Sujay Shekhar\n"
     ]
    }
   ],
   "source": [
    "x = input(\"what is your name ? \")\n",
    "print(x)"
   ]
  },
  {
   "cell_type": "code",
   "execution_count": 11,
   "metadata": {},
   "outputs": [
    {
     "name": "stdout",
     "output_type": "stream",
     "text": [
      "John\n"
     ]
    }
   ],
   "source": [
    "# Ex1)\n",
    "\n",
    "y = \"John\" # anything in double quotes or single quotes is called string\n",
    "\n",
    "\n",
    "print(y)"
   ]
  },
  {
   "cell_type": "code",
   "execution_count": 10,
   "metadata": {},
   "outputs": [
    {
     "data": {
      "text/plain": [
       "5"
      ]
     },
     "execution_count": 10,
     "metadata": {},
     "output_type": "execute_result"
    }
   ],
   "source": [
    "len(y)"
   ]
  },
  {
   "cell_type": "code",
   "execution_count": 18,
   "metadata": {},
   "outputs": [
    {
     "name": "stdout",
     "output_type": "stream",
     "text": [
      "1234.01\n"
     ]
    }
   ],
   "source": [
    "x = 1234.01\n",
    "print(x)"
   ]
  },
  {
   "cell_type": "code",
   "execution_count": 17,
   "metadata": {},
   "outputs": [
    {
     "data": {
      "text/plain": [
       "float"
      ]
     },
     "execution_count": 17,
     "metadata": {},
     "output_type": "execute_result"
    }
   ],
   "source": [
    "type(x)"
   ]
  },
  {
   "cell_type": "code",
   "execution_count": 2,
   "metadata": {},
   "outputs": [
    {
     "name": "stdout",
     "output_type": "stream",
     "text": [
      "5\n",
      "john\n"
     ]
    }
   ],
   "source": [
    "# Ex2)\n",
    "# In Python, there is no need to declare the type of variable .i.e,\n",
    "# same varible can be used to hold different data types\n",
    "x = 5\n",
    "print(x)\n",
    "x = 'john'\n",
    "print(x)"
   ]
  },
  {
   "cell_type": "code",
   "execution_count": 19,
   "metadata": {},
   "outputs": [],
   "source": [
    "# Camel Case  \n",
    "# Snake case "
   ]
  },
  {
   "cell_type": "code",
   "execution_count": null,
   "metadata": {},
   "outputs": [],
   "source": [
    "username = 12"
   ]
  },
  {
   "cell_type": "code",
   "execution_count": 21,
   "metadata": {},
   "outputs": [],
   "source": [
    "LengthOfDateStampInFile = 123"
   ]
  },
  {
   "cell_type": "code",
   "execution_count": 22,
   "metadata": {},
   "outputs": [
    {
     "ename": "SyntaxError",
     "evalue": "invalid syntax (<ipython-input-22-cb399ca6777c>, line 1)",
     "output_type": "error",
     "traceback": [
      "\u001b[0;36m  File \u001b[0;32m\"<ipython-input-22-cb399ca6777c>\"\u001b[0;36m, line \u001b[0;32m1\u001b[0m\n\u001b[0;31m    12abc = \"Shweta\"\u001b[0m\n\u001b[0m      ^\u001b[0m\n\u001b[0;31mSyntaxError\u001b[0m\u001b[0;31m:\u001b[0m invalid syntax\n"
     ]
    }
   ],
   "source": [
    "12abc = \"Shweta\"\n",
    "print(12abc)"
   ]
  },
  {
   "cell_type": "code",
   "execution_count": 24,
   "metadata": {},
   "outputs": [
    {
     "ename": "SyntaxError",
     "evalue": "invalid syntax (<ipython-input-24-9bda92f4a04e>, line 1)",
     "output_type": "error",
     "traceback": [
      "\u001b[0;36m  File \u001b[0;32m\"<ipython-input-24-9bda92f4a04e>\"\u001b[0;36m, line \u001b[0;32m1\u001b[0m\n\u001b[0;31m    $name = \"Shweta\"\u001b[0m\n\u001b[0m    ^\u001b[0m\n\u001b[0;31mSyntaxError\u001b[0m\u001b[0;31m:\u001b[0m invalid syntax\n"
     ]
    }
   ],
   "source": [
    "$name = \"Shweta\"\n",
    "print($name)"
   ]
  },
  {
   "cell_type": "code",
   "execution_count": 25,
   "metadata": {},
   "outputs": [
    {
     "ename": "SyntaxError",
     "evalue": "invalid syntax (<ipython-input-25-4e58c8d1a03b>, line 1)",
     "output_type": "error",
     "traceback": [
      "\u001b[0;36m  File \u001b[0;32m\"<ipython-input-25-4e58c8d1a03b>\"\u001b[0;36m, line \u001b[0;32m1\u001b[0m\n\u001b[0;31m    na$me = \"Shweta\"\u001b[0m\n\u001b[0m      ^\u001b[0m\n\u001b[0;31mSyntaxError\u001b[0m\u001b[0;31m:\u001b[0m invalid syntax\n"
     ]
    }
   ],
   "source": [
    "na$me = \"Shweta\"\n",
    "print(na$me)"
   ]
  },
  {
   "cell_type": "code",
   "execution_count": 26,
   "metadata": {},
   "outputs": [
    {
     "ename": "SyntaxError",
     "evalue": "invalid syntax (<ipython-input-26-26ca3a3b114e>, line 1)",
     "output_type": "error",
     "traceback": [
      "\u001b[0;36m  File \u001b[0;32m\"<ipython-input-26-26ca3a3b114e>\"\u001b[0;36m, line \u001b[0;32m1\u001b[0m\n\u001b[0;31m    name$ = \"Shweta\"\u001b[0m\n\u001b[0m        ^\u001b[0m\n\u001b[0;31mSyntaxError\u001b[0m\u001b[0;31m:\u001b[0m invalid syntax\n"
     ]
    }
   ],
   "source": [
    "name$ = \"Shweta\""
   ]
  },
  {
   "cell_type": "code",
   "execution_count": 23,
   "metadata": {},
   "outputs": [
    {
     "name": "stdout",
     "output_type": "stream",
     "text": [
      "Shweta\n"
     ]
    }
   ],
   "source": [
    "abc12 = \"Shweta\"\n",
    "print(abc12)"
   ]
  },
  {
   "cell_type": "code",
   "execution_count": 27,
   "metadata": {},
   "outputs": [
    {
     "name": "stdout",
     "output_type": "stream",
     "text": [
      "Shweta\n"
     ]
    }
   ],
   "source": [
    "_name = \"Shweta\"\n",
    "print(_name)"
   ]
  },
  {
   "cell_type": "code",
   "execution_count": 32,
   "metadata": {},
   "outputs": [
    {
     "name": "stdout",
     "output_type": "stream",
     "text": [
      "Hello\n",
      "Hello\n",
      "Hello\n",
      "Hello\n",
      "Hello\n"
     ]
    }
   ],
   "source": [
    "for _ in range(5):\n",
    "    print(\"Hello\")"
   ]
  },
  {
   "cell_type": "code",
   "execution_count": null,
   "metadata": {},
   "outputs": [],
   "source": [
    "length_of_date_stamp_in_file = 123"
   ]
  },
  {
   "cell_type": "code",
   "execution_count": null,
   "metadata": {},
   "outputs": [],
   "source": [
    "lengthofdatestampinfile = 123"
   ]
  },
  {
   "cell_type": "code",
   "execution_count": null,
   "metadata": {},
   "outputs": [],
   "source": [
    "userName = 12"
   ]
  },
  {
   "cell_type": "code",
   "execution_count": null,
   "metadata": {},
   "outputs": [],
   "source": [
    "lengthOfSample = 12 # camel case \n",
    "length_of_sample = 12 # snake case"
   ]
  },
  {
   "cell_type": "markdown",
   "metadata": {},
   "source": [
    "### Convention for naming variables"
   ]
  },
  {
   "cell_type": "markdown",
   "metadata": {},
   "source": [
    "* A variable name can only contain alpha-numeric characters and underscores (A-z, 0-9, and _ )\n",
    "* A variable name must start with a letter or the underscore character\n",
    "* A variable name cannot start with a number"
   ]
  },
  {
   "cell_type": "code",
   "execution_count": 3,
   "metadata": {},
   "outputs": [
    {
     "name": "stdout",
     "output_type": "stream",
     "text": [
      "25 30 35\n"
     ]
    }
   ],
   "source": [
    "# Ex 3)\n",
    "# Variable names are case-sensitive (age, Age and AGE are three different variables)\n",
    "age = 25\n",
    "# print(age)\n",
    "Age = 30\n",
    "# print(age)\n",
    "AGE = 35\n",
    "print(age,Age,AGE)"
   ]
  },
  {
   "cell_type": "markdown",
   "metadata": {},
   "source": [
    "* Examples of legal and illegal variable names"
   ]
  },
  {
   "cell_type": "code",
   "execution_count": null,
   "metadata": {},
   "outputs": [],
   "source": [
    "#Legal variable names:\n",
    "myvar = \"Python\"\n",
    "my_var = \"Python\"\n",
    "_my_var = \"Python\"\n",
    "myVar = \"Python\"\n",
    "MYVAR = \"Python\"\n",
    "myvar2 = \"Python\"\n",
    "\n",
    "#Illegal variable names:\n",
    "2myvar = \"Python\"  # starting with number\n",
    "my-var = \"Python\"  # hyphen is not allowed \n",
    "my var = \"Python\"  # space in between is not allowed"
   ]
  },
  {
   "cell_type": "markdown",
   "metadata": {},
   "source": [
    "## Python print() Function\n",
    "* The print() function prints the specified message to the screen\n",
    "* The message can be a string, or any other object, the object will be converted into a string before written to the screen."
   ]
  },
  {
   "cell_type": "code",
   "execution_count": 35,
   "metadata": {},
   "outputs": [
    {
     "name": "stdout",
     "output_type": "stream",
     "text": [
      "Sujay\n"
     ]
    }
   ],
   "source": [
    "name = \"Sujay\"\n",
    "print(name)"
   ]
  },
  {
   "cell_type": "code",
   "execution_count": 36,
   "metadata": {},
   "outputs": [
    {
     "name": "stdout",
     "output_type": "stream",
     "text": [
      "Hello world\n"
     ]
    }
   ],
   "source": [
    "# Ex1)\n",
    "print(\"Hello world\")"
   ]
  },
  {
   "cell_type": "code",
   "execution_count": 37,
   "metadata": {},
   "outputs": [
    {
     "name": "stdout",
     "output_type": "stream",
     "text": [
      "Welcome to python\n"
     ]
    }
   ],
   "source": [
    "# Ex2)\n",
    "print(\"Welcome to python\")"
   ]
  },
  {
   "cell_type": "code",
   "execution_count": 38,
   "metadata": {},
   "outputs": [
    {
     "name": "stdout",
     "output_type": "stream",
     "text": [
      "Hello world\n"
     ]
    }
   ],
   "source": [
    "# Ex3)\n",
    "a = \"Hello world\"\n",
    "print(a)"
   ]
  },
  {
   "cell_type": "code",
   "execution_count": 39,
   "metadata": {},
   "outputs": [
    {
     "name": "stdout",
     "output_type": "stream",
     "text": [
      "Arun\n",
      "Balaji\n"
     ]
    }
   ],
   "source": [
    "# Ex4)\n",
    "first_name = 'Arun'\n",
    "last_name = 'Balaji'\n",
    "\n",
    "print(first_name)\n",
    "print(last_name)"
   ]
  },
  {
   "cell_type": "code",
   "execution_count": 40,
   "metadata": {},
   "outputs": [],
   "source": [
    "# desired output is:\n",
    "# Arun-Balaji\n",
    "# by using 2 print() functions"
   ]
  },
  {
   "cell_type": "code",
   "execution_count": 51,
   "metadata": {},
   "outputs": [
    {
     "name": "stdout",
     "output_type": "stream",
     "text": [
      "Shweta$Gazabre\n"
     ]
    }
   ],
   "source": [
    "first_name = \"Shweta\"\n",
    "last_name = \"Gazabre\"\n",
    "print(first_name,end='$')\n",
    "print(last_name)"
   ]
  },
  {
   "cell_type": "code",
   "execution_count": 48,
   "metadata": {},
   "outputs": [
    {
     "name": "stdout",
     "output_type": "stream",
     "text": [
      "Shweta-Gazabre\n"
     ]
    }
   ],
   "source": [
    "# Ex5)\n",
    "# You can specify the end parameter\n",
    "print(first_name,end = '-')\n",
    "print(last_name)"
   ]
  },
  {
   "cell_type": "markdown",
   "metadata": {},
   "source": [
    "## String Concatination"
   ]
  },
  {
   "cell_type": "code",
   "execution_count": 56,
   "metadata": {},
   "outputs": [
    {
     "name": "stdout",
     "output_type": "stream",
     "text": [
      "I have a Mango\n"
     ]
    }
   ],
   "source": [
    "# Ex6)\n",
    "fruit = ' Mango'\n",
    "print(\"I have a\" + fruit)\n"
   ]
  },
  {
   "cell_type": "code",
   "execution_count": 61,
   "metadata": {},
   "outputs": [
    {
     "name": "stdout",
     "output_type": "stream",
     "text": [
      "Watermelon Apple\n"
     ]
    }
   ],
   "source": [
    "fruitOne = \"Watermelon\"\n",
    "fruitTwo = \"Apple\"\n",
    "print(fruitOne + \" \" +fruitTwo)"
   ]
  },
  {
   "cell_type": "code",
   "execution_count": 62,
   "metadata": {},
   "outputs": [],
   "source": [
    "# I love Watermelon and Mango"
   ]
  },
  {
   "cell_type": "code",
   "execution_count": 70,
   "metadata": {},
   "outputs": [
    {
     "name": "stdout",
     "output_type": "stream",
     "text": [
      "I love Watermelon and Apple\n"
     ]
    }
   ],
   "source": [
    "print(\"I love\" + \" \" + fruitOne + \" \" + \"and\" + \" \" +fruitTwo )"
   ]
  },
  {
   "cell_type": "code",
   "execution_count": 69,
   "metadata": {},
   "outputs": [
    {
     "name": "stdout",
     "output_type": "stream",
     "text": [
      "I love Watermelon and Apple\n"
     ]
    }
   ],
   "source": [
    "print(f\"I love {fruitOne} and {fruitTwo}\") # string formatting Python3.6"
   ]
  },
  {
   "cell_type": "code",
   "execution_count": 75,
   "metadata": {},
   "outputs": [
    {
     "name": "stdout",
     "output_type": "stream",
     "text": [
      "I love Watermelon and Apple\n"
     ]
    }
   ],
   "source": [
    "print(\"I love {shweta} and {gazabre}\".format(shweta = fruitOne, gazabre = fruitTwo)) # python2.7"
   ]
  },
  {
   "cell_type": "code",
   "execution_count": 10,
   "metadata": {},
   "outputs": [
    {
     "name": "stdout",
     "output_type": "stream",
     "text": [
      "I have 2 fruits, one is Apple other one is Banana\n"
     ]
    }
   ],
   "source": [
    "# Ex7)\n",
    "fruit1 = 'Apple'\n",
    "fruit2 = 'Banana'\n",
    "print('I have 2 fruits, one is '+ fruit1+\" other one is \"+fruit2)"
   ]
  },
  {
   "cell_type": "code",
   "execution_count": 79,
   "metadata": {},
   "outputs": [
    {
     "name": "stdout",
     "output_type": "stream",
     "text": [
      " I have 2 fruits, one is Apple other one is Watermelon\n",
      " I have 2 fruits, one is Watermelon other one is Apple\n"
     ]
    }
   ],
   "source": [
    "# Ex8) print format()\n",
    "print(\" I have 2 fruits, one is {} other one is {}\".format(fruitTwo,fruitOne))\n",
    "print(\" I have 2 fruits, one is {} other one is {}\".format(fruitOne,fruitTwo))"
   ]
  },
  {
   "cell_type": "code",
   "execution_count": 13,
   "metadata": {},
   "outputs": [
    {
     "name": "stdout",
     "output_type": "stream",
     "text": [
      " I have 2 fruits, one is Banana other one is Apple\n"
     ]
    }
   ],
   "source": [
    "# Ex9) giving indexes in the placeholders\n",
    "print(\" I have 2 fruits, one is {1} other one is {0}\".format(fruit1,fruit2))"
   ]
  },
  {
   "cell_type": "markdown",
   "metadata": {},
   "source": [
    "## Python Comments\n",
    "* Comments can be used to explain Python code.\n",
    "\n",
    "* Comments can be used to make the code more readable.\n",
    "\n",
    "* Comments can be used to prevent execution when testing code."
   ]
  },
  {
   "cell_type": "markdown",
   "metadata": {},
   "source": [
    "'#' is used for single line comment. Python will ignore the lines starting with '#'"
   ]
  },
  {
   "cell_type": "code",
   "execution_count": 84,
   "metadata": {},
   "outputs": [
    {
     "name": "stdout",
     "output_type": "stream",
     "text": [
      "Hello world\n"
     ]
    }
   ],
   "source": [
    "#this is a comment\n",
    "print('Hello world') # this is a print function which is used to print the output\n"
   ]
  },
  {
   "cell_type": "code",
   "execution_count": 16,
   "metadata": {},
   "outputs": [
    {
     "name": "stdout",
     "output_type": "stream",
     "text": [
      "Hello world\n"
     ]
    }
   ],
   "source": [
    "print('Hello world') #You can write comments here as well!"
   ]
  },
  {
   "cell_type": "code",
   "execution_count": 86,
   "metadata": {},
   "outputs": [
    {
     "name": "stdout",
     "output_type": "stream",
     "text": [
      "Hello world\n",
      "This is our first class\n"
     ]
    }
   ],
   "source": [
    "print('Hello world')\n",
    "#print('Welcome to python')\n",
    "print('This is our first class')"
   ]
  },
  {
   "cell_type": "code",
   "execution_count": 18,
   "metadata": {},
   "outputs": [
    {
     "name": "stdout",
     "output_type": "stream",
     "text": [
      "Hello-World\n"
     ]
    }
   ],
   "source": [
    "# i am a \n",
    "# multiline \n",
    "# comment \n",
    "# using '#' \n",
    "# at the beginning of\n",
    "# each line\n",
    "print('Hello-World')"
   ]
  },
  {
   "cell_type": "code",
   "execution_count": 97,
   "metadata": {},
   "outputs": [
    {
     "name": "stdout",
     "output_type": "stream",
     "text": [
      "Hello Hello Hello Hello Hello "
     ]
    }
   ],
   "source": [
    "'''this is known as doc string'''\n",
    "for i in range(5):\n",
    "    print(\"Hello\", end= ' ')"
   ]
  },
  {
   "cell_type": "markdown",
   "metadata": {},
   "source": [
    "\"\"\"\n",
    " ....\n",
    "\"\"\"\n",
    "is used to comment multiple lines of code"
   ]
  },
  {
   "cell_type": "code",
   "execution_count": 98,
   "metadata": {},
   "outputs": [
    {
     "name": "stdout",
     "output_type": "stream",
     "text": [
      "Hello world\n"
     ]
    }
   ],
   "source": [
    "'''\n",
    "i am a \n",
    "multiline \n",
    "comment \n",
    "using \n",
    "at the beginning of\n",
    "each line\n",
    "'''\n",
    "\n",
    "print('Hello world')"
   ]
  },
  {
   "cell_type": "code",
   "execution_count": 20,
   "metadata": {},
   "outputs": [
    {
     "name": "stdout",
     "output_type": "stream",
     "text": [
      "Hello world\n"
     ]
    }
   ],
   "source": [
    "'''\n",
    "i am a \n",
    "multiline \n",
    "comment \n",
    "using '#' \n",
    "at the beginning of\n",
    "each line\n",
    "'''\n",
    "print('Hello world')"
   ]
  },
  {
   "cell_type": "markdown",
   "metadata": {},
   "source": [
    "## input()\n",
    "* The input() function allows us to take input from the user."
   ]
  },
  {
   "cell_type": "code",
   "execution_count": 128,
   "metadata": {},
   "outputs": [
    {
     "name": "stdout",
     "output_type": "stream",
     "text": [
      "shwetashwetashwetashwetashweta\n"
     ]
    }
   ],
   "source": [
    "string1 = 5\n",
    "string2 = 'shweta'\n",
    "print(string1 * string2)\n",
    "# 1X5 = 5 , 5X1 = 5"
   ]
  },
  {
   "cell_type": "code",
   "execution_count": 113,
   "metadata": {},
   "outputs": [
    {
     "name": "stdout",
     "output_type": "stream",
     "text": [
      "Please enter your pincode : 560029\n",
      "<class 'str'>\n"
     ]
    }
   ],
   "source": [
    "# Ex1) ask name from the user\n",
    "# input() is a inbuilt function\n",
    "# () this is known as parenthesis\n",
    "name = input(\"Please enter your pincode : \")\n",
    "print(type(name))"
   ]
  },
  {
   "cell_type": "code",
   "execution_count": 109,
   "metadata": {},
   "outputs": [
    {
     "name": "stdout",
     "output_type": "stream",
     "text": [
      "Please enter your roll number ; 41\n",
      "<class 'int'>\n"
     ]
    }
   ],
   "source": [
    "name2 = input(\"Please enter your roll number ; \")\n",
    "name2 = int(name2)\n",
    "print(type(name2))"
   ]
  },
  {
   "cell_type": "code",
   "execution_count": 130,
   "metadata": {},
   "outputs": [
    {
     "name": "stdout",
     "output_type": "stream",
     "text": [
      "enter the first number : 10\n",
      "enter the second number : 10\n",
      "20\n"
     ]
    }
   ],
   "source": [
    "# Ex2) take two inputs(numbers) from user and add the numbers\n",
    "num1 = int(input(\"enter the first number : \"))\n",
    "num2 = int(input(\"enter the second number : \"))\n",
    "num3 = num1 + num2 \n",
    "print(num3)"
   ]
  },
  {
   "cell_type": "code",
   "execution_count": 137,
   "metadata": {},
   "outputs": [
    {
     "name": "stdout",
     "output_type": "stream",
     "text": [
      "Please Enter you Roll Number : 21\n",
      "<class 'str'>\n",
      "21\n",
      "<class 'int'>\n",
      "___________________________\n",
      "21\n",
      "<class 'str'>\n"
     ]
    }
   ],
   "source": [
    "roll_number = input(\"Please Enter you Roll Number : \")\n",
    "print(type(roll_number))\n",
    "roll_number = int(roll_number)\n",
    "print(roll_number)\n",
    "print(type(roll_number))\n",
    "print(\"___________________________\")\n",
    "roll_number = str(roll_number)\n",
    "print(roll_number)\n",
    "print(type(roll_number))"
   ]
  },
  {
   "cell_type": "code",
   "execution_count": null,
   "metadata": {},
   "outputs": [],
   "source": []
  },
  {
   "cell_type": "markdown",
   "metadata": {},
   "source": [
    "#### remember, whatever value user inputs is converted to string by default"
   ]
  },
  {
   "cell_type": "code",
   "execution_count": 23,
   "metadata": {},
   "outputs": [
    {
     "name": "stdout",
     "output_type": "stream",
     "text": [
      "type of num1 = <class 'str'> and num2 = <class 'str'> \n"
     ]
    }
   ],
   "source": [
    "# check the type\n",
    "print(\"type of num1 = {} and num2 = {} \".format(type(num1),type(num2)))\n",
    "\n",
    "# convert to int\n",
    "num1 = int(num1)\n",
    "num2 = int(num2)"
   ]
  },
  {
   "cell_type": "code",
   "execution_count": 24,
   "metadata": {},
   "outputs": [
    {
     "name": "stdout",
     "output_type": "stream",
     "text": [
      "11\n"
     ]
    }
   ],
   "source": [
    "# add and print\n",
    "num3 = num1 + num2 \n",
    "print(num3)"
   ]
  },
  {
   "cell_type": "code",
   "execution_count": null,
   "metadata": {},
   "outputs": [],
   "source": []
  }
 ],
 "metadata": {
  "kernelspec": {
   "display_name": "Python 3 (ipykernel)",
   "language": "python",
   "name": "python3"
  },
  "language_info": {
   "codemirror_mode": {
    "name": "ipython",
    "version": 3
   },
   "file_extension": ".py",
   "mimetype": "text/x-python",
   "name": "python",
   "nbconvert_exporter": "python",
   "pygments_lexer": "ipython3",
   "version": "3.9.12"
  }
 },
 "nbformat": 4,
 "nbformat_minor": 2
}
