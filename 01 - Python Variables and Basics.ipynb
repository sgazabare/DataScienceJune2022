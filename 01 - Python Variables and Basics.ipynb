{
 "cells": [
  {
   "cell_type": "markdown",
   "metadata": {},
   "source": [
    "## Python Variables\n",
    "* Variables are containers for storing data values\n",
    "* A variable is created the moment you first assign a value to it.\n",
    "* Unlike other programming languages,you dont have to declare the type of variable in python"
   ]
  },
  {
   "cell_type": "code",
   "execution_count": 5,
   "metadata": {},
   "outputs": [
    {
     "name": "stdout",
     "output_type": "stream",
     "text": [
      "1234\n"
     ]
    }
   ],
   "source": [
    "number = 1234\n",
    "print(number)"
   ]
  },
  {
   "cell_type": "code",
   "execution_count": 2,
   "metadata": {},
   "outputs": [
    {
     "name": "stdout",
     "output_type": "stream",
     "text": [
      "WHat is your name ? Sujay Shekhar\n",
      "Sujay Shekhar\n"
     ]
    }
   ],
   "source": [
    "\n",
    "print(username)"
   ]
  },
  {
   "cell_type": "code",
   "execution_count": 4,
   "metadata": {},
   "outputs": [
    {
     "name": "stdout",
     "output_type": "stream",
     "text": [
      "what is your name ? Sujay Shekhar\n",
      "Sujay Shekhar\n"
     ]
    }
   ],
   "source": [
    "x = input(\"what is your name ? \")\n",
    "print(x)"
   ]
  },
  {
   "cell_type": "code",
   "execution_count": 11,
   "metadata": {},
   "outputs": [
    {
     "name": "stdout",
     "output_type": "stream",
     "text": [
      "John\n"
     ]
    }
   ],
   "source": [
    "# Ex1)\n",
    "\n",
    "y = \"John\" # anything in double quotes or single quotes is called string\n",
    "\n",
    "\n",
    "print(y)"
   ]
  },
  {
   "cell_type": "code",
   "execution_count": 10,
   "metadata": {},
   "outputs": [
    {
     "data": {
      "text/plain": [
       "5"
      ]
     },
     "execution_count": 10,
     "metadata": {},
     "output_type": "execute_result"
    }
   ],
   "source": [
    "len(y)"
   ]
  },
  {
   "cell_type": "code",
   "execution_count": 18,
   "metadata": {},
   "outputs": [
    {
     "name": "stdout",
     "output_type": "stream",
     "text": [
      "1234.01\n"
     ]
    }
   ],
   "source": [
    "x = 1234.01\n",
    "print(x)"
   ]
  },
  {
   "cell_type": "code",
   "execution_count": 17,
   "metadata": {},
   "outputs": [
    {
     "data": {
      "text/plain": [
       "float"
      ]
     },
     "execution_count": 17,
     "metadata": {},
     "output_type": "execute_result"
    }
   ],
   "source": [
    "type(x)"
   ]
  },
  {
   "cell_type": "code",
   "execution_count": 2,
   "metadata": {},
   "outputs": [
    {
     "name": "stdout",
     "output_type": "stream",
     "text": [
      "5\n",
      "john\n"
     ]
    }
   ],
   "source": [
    "# Ex2)\n",
    "# In Python, there is no need to declare the type of variable .i.e,\n",
    "# same varible can be used to hold different data types\n",
    "x = 5\n",
    "print(x)\n",
    "x = 'john'\n",
    "print(x)"
   ]
  },
  {
   "cell_type": "code",
   "execution_count": 19,
   "metadata": {},
   "outputs": [],
   "source": [
    "# Camel Case  \n",
    "# Snake case "
   ]
  },
  {
   "cell_type": "code",
   "execution_count": null,
   "metadata": {},
   "outputs": [],
   "source": [
    "username = 12"
   ]
  },
  {
   "cell_type": "code",
   "execution_count": 21,
   "metadata": {},
   "outputs": [],
   "source": [
    "LengthOfDateStampInFile = 123"
   ]
  },
  {
   "cell_type": "code",
   "execution_count": 22,
   "metadata": {},
   "outputs": [
    {
     "ename": "SyntaxError",
     "evalue": "invalid syntax (<ipython-input-22-cb399ca6777c>, line 1)",
     "output_type": "error",
     "traceback": [
      "\u001b[0;36m  File \u001b[0;32m\"<ipython-input-22-cb399ca6777c>\"\u001b[0;36m, line \u001b[0;32m1\u001b[0m\n\u001b[0;31m    12abc = \"Shweta\"\u001b[0m\n\u001b[0m      ^\u001b[0m\n\u001b[0;31mSyntaxError\u001b[0m\u001b[0;31m:\u001b[0m invalid syntax\n"
     ]
    }
   ],
   "source": [
    "12abc = \"Shweta\"\n",
    "print(12abc)"
   ]
  },
  {
   "cell_type": "code",
   "execution_count": 24,
   "metadata": {},
   "outputs": [
    {
     "ename": "SyntaxError",
     "evalue": "invalid syntax (<ipython-input-24-9bda92f4a04e>, line 1)",
     "output_type": "error",
     "traceback": [
      "\u001b[0;36m  File \u001b[0;32m\"<ipython-input-24-9bda92f4a04e>\"\u001b[0;36m, line \u001b[0;32m1\u001b[0m\n\u001b[0;31m    $name = \"Shweta\"\u001b[0m\n\u001b[0m    ^\u001b[0m\n\u001b[0;31mSyntaxError\u001b[0m\u001b[0;31m:\u001b[0m invalid syntax\n"
     ]
    }
   ],
   "source": [
    "$name = \"Shweta\"\n",
    "print($name)"
   ]
  },
  {
   "cell_type": "code",
   "execution_count": 25,
   "metadata": {},
   "outputs": [
    {
     "ename": "SyntaxError",
     "evalue": "invalid syntax (<ipython-input-25-4e58c8d1a03b>, line 1)",
     "output_type": "error",
     "traceback": [
      "\u001b[0;36m  File \u001b[0;32m\"<ipython-input-25-4e58c8d1a03b>\"\u001b[0;36m, line \u001b[0;32m1\u001b[0m\n\u001b[0;31m    na$me = \"Shweta\"\u001b[0m\n\u001b[0m      ^\u001b[0m\n\u001b[0;31mSyntaxError\u001b[0m\u001b[0;31m:\u001b[0m invalid syntax\n"
     ]
    }
   ],
   "source": [
    "na$me = \"Shweta\"\n",
    "print(na$me)"
   ]
  },
  {
   "cell_type": "code",
   "execution_count": 26,
   "metadata": {},
   "outputs": [
    {
     "ename": "SyntaxError",
     "evalue": "invalid syntax (<ipython-input-26-26ca3a3b114e>, line 1)",
     "output_type": "error",
     "traceback": [
      "\u001b[0;36m  File \u001b[0;32m\"<ipython-input-26-26ca3a3b114e>\"\u001b[0;36m, line \u001b[0;32m1\u001b[0m\n\u001b[0;31m    name$ = \"Shweta\"\u001b[0m\n\u001b[0m        ^\u001b[0m\n\u001b[0;31mSyntaxError\u001b[0m\u001b[0;31m:\u001b[0m invalid syntax\n"
     ]
    }
   ],
   "source": [
    "name$ = \"Shweta\""
   ]
  },
  {
   "cell_type": "code",
   "execution_count": 23,
   "metadata": {},
   "outputs": [
    {
     "name": "stdout",
     "output_type": "stream",
     "text": [
      "Shweta\n"
     ]
    }
   ],
   "source": [
    "abc12 = \"Shweta\"\n",
    "print(abc12)"
   ]
  },
  {
   "cell_type": "code",
   "execution_count": 27,
   "metadata": {},
   "outputs": [
    {
     "name": "stdout",
     "output_type": "stream",
     "text": [
      "Shweta\n"
     ]
    }
   ],
   "source": [
    "_name = \"Shweta\"\n",
    "print(_name)"
   ]
  },
  {
   "cell_type": "code",
   "execution_count": 32,
   "metadata": {},
   "outputs": [
    {
     "name": "stdout",
     "output_type": "stream",
     "text": [
      "Hello\n",
      "Hello\n",
      "Hello\n",
      "Hello\n",
      "Hello\n"
     ]
    }
   ],
   "source": [
    "for _ in range(5):\n",
    "    print(\"Hello\")"
   ]
  },
  {
   "cell_type": "code",
   "execution_count": null,
   "metadata": {},
   "outputs": [],
   "source": [
    "length_of_date_stamp_in_file = 123"
   ]
  },
  {
   "cell_type": "code",
   "execution_count": null,
   "metadata": {},
   "outputs": [],
   "source": [
    "lengthofdatestampinfile = 123"
   ]
  },
  {
   "cell_type": "code",
   "execution_count": null,
   "metadata": {},
   "outputs": [],
   "source": [
    "userName = 12"
   ]
  },
  {
   "cell_type": "code",
   "execution_count": null,
   "metadata": {},
   "outputs": [],
   "source": [
    "lengthOfSample = 12 # camel case \n",
    "length_of_sample = 12 # snake case"
   ]
  },
  {
   "cell_type": "markdown",
   "metadata": {},
   "source": [
    "### Convention for naming variables"
   ]
  },
  {
   "cell_type": "markdown",
   "metadata": {},
   "source": [
    "* A variable name can only contain alpha-numeric characters and underscores (A-z, 0-9, and _ )\n",
    "* A variable name must start with a letter or the underscore character\n",
    "* A variable name cannot start with a number"
   ]
  },
  {
   "cell_type": "code",
   "execution_count": 3,
   "metadata": {},
   "outputs": [
    {
     "name": "stdout",
     "output_type": "stream",
     "text": [
      "25 30 35\n"
     ]
    }
   ],
   "source": [
    "# Ex 3)\n",
    "# Variable names are case-sensitive (age, Age and AGE are three different variables)\n",
    "age = 25\n",
    "# print(age)\n",
    "Age = 30\n",
    "# print(age)\n",
    "AGE = 35\n",
    "print(age,Age,AGE)"
   ]
  },
  {
   "cell_type": "markdown",
   "metadata": {},
   "source": [
    "* Examples of legal and illegal variable names"
   ]
  },
  {
   "cell_type": "code",
   "execution_count": null,
   "metadata": {},
   "outputs": [],
   "source": [
    "#Legal variable names:\n",
    "myvar = \"Python\"\n",
    "my_var = \"Python\"\n",
    "_my_var = \"Python\"\n",
    "myVar = \"Python\"\n",
    "MYVAR = \"Python\"\n",
    "myvar2 = \"Python\"\n",
    "\n",
    "#Illegal variable names:\n",
    "2myvar = \"Python\"  # starting with number\n",
    "my-var = \"Python\"  # hyphen is not allowed \n",
    "my var = \"Python\"  # space in between is not allowed"
   ]
  },
  {
   "cell_type": "markdown",
   "metadata": {},
   "source": [
    "## Python print() Function\n",
    "* The print() function prints the specified message to the screen\n",
    "* The message can be a string, or any other object, the object will be converted into a string before written to the screen."
   ]
  },
  {
   "cell_type": "code",
   "execution_count": 1,
   "metadata": {},
   "outputs": [
    {
     "data": {
      "text/plain": [
       "'Sujay'"
      ]
     },
     "execution_count": 1,
     "metadata": {},
     "output_type": "execute_result"
    }
   ],
   "source": [
    "name = \"Sujay\"\n",
    "print(name)"
   ]
  },
  {
   "cell_type": "code",
   "execution_count": 36,
   "metadata": {},
   "outputs": [
    {
     "name": "stdout",
     "output_type": "stream",
     "text": [
      "Hello world\n"
     ]
    }
   ],
   "source": [
    "# Ex1)\n",
    "print(\"Hello world\")"
   ]
  },
  {
   "cell_type": "code",
   "execution_count": 37,
   "metadata": {},
   "outputs": [
    {
     "name": "stdout",
     "output_type": "stream",
     "text": [
      "Welcome to python\n"
     ]
    }
   ],
   "source": [
    "# Ex2)\n",
    "print(\"Welcome to python\")"
   ]
  },
  {
   "cell_type": "code",
   "execution_count": 38,
   "metadata": {},
   "outputs": [
    {
     "name": "stdout",
     "output_type": "stream",
     "text": [
      "Hello world\n"
     ]
    }
   ],
   "source": [
    "# Ex3)\n",
    "a = \"Hello world\"\n",
    "print(a)"
   ]
  },
  {
   "cell_type": "code",
   "execution_count": 39,
   "metadata": {},
   "outputs": [
    {
     "name": "stdout",
     "output_type": "stream",
     "text": [
      "Arun\n",
      "Balaji\n"
     ]
    }
   ],
   "source": [
    "# Ex4)\n",
    "first_name = 'Arun'\n",
    "last_name = 'Balaji'\n",
    "\n",
    "print(first_name)\n",
    "print(last_name)"
   ]
  },
  {
   "cell_type": "code",
   "execution_count": 40,
   "metadata": {},
   "outputs": [],
   "source": [
    "# desired output is:\n",
    "# Arun-Balaji\n",
    "# by using 2 print() functions"
   ]
  },
  {
   "cell_type": "code",
   "execution_count": 51,
   "metadata": {},
   "outputs": [
    {
     "name": "stdout",
     "output_type": "stream",
     "text": [
      "Shweta$Gazabre\n"
     ]
    }
   ],
   "source": [
    "first_name = \"Shweta\"\n",
    "last_name = \"Gazabre\"\n",
    "print(first_name,end='$')\n",
    "print(last_name)"
   ]
  },
  {
   "cell_type": "code",
   "execution_count": 48,
   "metadata": {},
   "outputs": [
    {
     "name": "stdout",
     "output_type": "stream",
     "text": [
      "Shweta-Gazabre\n"
     ]
    }
   ],
   "source": [
    "# Ex5)\n",
    "# You can specify the end parameter\n",
    "print(first_name,end = '-')\n",
    "print(last_name)"
   ]
  },
  {
   "cell_type": "markdown",
   "metadata": {},
   "source": [
    "## String Concatination"
   ]
  },
  {
   "cell_type": "code",
   "execution_count": 56,
   "metadata": {},
   "outputs": [
    {
     "name": "stdout",
     "output_type": "stream",
     "text": [
      "I have a Mango\n"
     ]
    }
   ],
   "source": [
    "# Ex6)\n",
    "fruit = ' Mango'\n",
    "print(\"I have a\" + fruit)\n"
   ]
  },
  {
   "cell_type": "code",
   "execution_count": 61,
   "metadata": {},
   "outputs": [
    {
     "name": "stdout",
     "output_type": "stream",
     "text": [
      "Watermelon Apple\n"
     ]
    }
   ],
   "source": [
    "fruitOne = \"Watermelon\"\n",
    "fruitTwo = \"Apple\"\n",
    "print(fruitOne + \" \" +fruitTwo)"
   ]
  },
  {
   "cell_type": "code",
   "execution_count": 62,
   "metadata": {},
   "outputs": [],
   "source": [
    "# I love Watermelon and Mango"
   ]
  },
  {
   "cell_type": "code",
   "execution_count": 70,
   "metadata": {},
   "outputs": [
    {
     "name": "stdout",
     "output_type": "stream",
     "text": [
      "I love Watermelon and Apple\n"
     ]
    }
   ],
   "source": [
    "print(\"I love\" + \" \" + fruitOne + \" \" + \"and\" + \" \" +fruitTwo )"
   ]
  },
  {
   "cell_type": "code",
   "execution_count": 69,
   "metadata": {},
   "outputs": [
    {
     "name": "stdout",
     "output_type": "stream",
     "text": [
      "I love Watermelon and Apple\n"
     ]
    }
   ],
   "source": [
    "print(f\"I love {fruitOne} and {fruitTwo}\") # string formatting Python3.6 and above"
   ]
  },
  {
   "cell_type": "code",
   "execution_count": 75,
   "metadata": {},
   "outputs": [
    {
     "name": "stdout",
     "output_type": "stream",
     "text": [
      "I love Watermelon and Apple\n"
     ]
    }
   ],
   "source": [
    "print(\"I love {shweta} and {gazabre}\".format(shweta = fruitOne, gazabre = fruitTwo)) # python2.7"
   ]
  },
  {
   "cell_type": "code",
   "execution_count": 10,
   "metadata": {},
   "outputs": [
    {
     "name": "stdout",
     "output_type": "stream",
     "text": [
      "I have 2 fruits, one is Apple other one is Banana\n"
     ]
    }
   ],
   "source": [
    "# Ex7)\n",
    "fruit1 = 'Apple'\n",
    "fruit2 = 'Banana'\n",
    "print('I have 2 fruits, one is '+ fruit1+\" other one is \"+fruit2)"
   ]
  },
  {
   "cell_type": "code",
   "execution_count": 79,
   "metadata": {},
   "outputs": [
    {
     "name": "stdout",
     "output_type": "stream",
     "text": [
      " I have 2 fruits, one is Apple other one is Watermelon\n",
      " I have 2 fruits, one is Watermelon other one is Apple\n"
     ]
    }
   ],
   "source": [
    "# Ex8) print format()\n",
    "print(\" I have 2 fruits, one is {} other one is {}\".format(fruitTwo,fruitOne))\n",
    "print(\" I have 2 fruits, one is {} other one is {}\".format(fruitOne,fruitTwo))"
   ]
  },
  {
   "cell_type": "code",
   "execution_count": 13,
   "metadata": {},
   "outputs": [
    {
     "name": "stdout",
     "output_type": "stream",
     "text": [
      " I have 2 fruits, one is Banana other one is Apple\n"
     ]
    }
   ],
   "source": [
    "# Ex9) giving indexes in the placeholders\n",
    "print(\" I have 2 fruits, one is {1} other one is {0}\".format(fruit1,fruit2))"
   ]
  },
  {
   "cell_type": "markdown",
   "metadata": {},
   "source": [
    "## Python Comments\n",
    "* Comments can be used to explain Python code.\n",
    "\n",
    "* Comments can be used to make the code more readable.\n",
    "\n",
    "* Comments can be used to prevent execution when testing code."
   ]
  },
  {
   "cell_type": "markdown",
   "metadata": {},
   "source": [
    "'#' is used for single line comment. Python will ignore the lines starting with '#'"
   ]
  },
  {
   "cell_type": "code",
   "execution_count": 84,
   "metadata": {},
   "outputs": [
    {
     "name": "stdout",
     "output_type": "stream",
     "text": [
      "Hello world\n"
     ]
    }
   ],
   "source": [
    "#this is a comment\n",
    "print('Hello world') # this is a print function which is used to print the output\n"
   ]
  },
  {
   "cell_type": "code",
   "execution_count": 16,
   "metadata": {},
   "outputs": [
    {
     "name": "stdout",
     "output_type": "stream",
     "text": [
      "Hello world\n"
     ]
    }
   ],
   "source": [
    "print('Hello world') #You can write comments here as well!"
   ]
  },
  {
   "cell_type": "code",
   "execution_count": 86,
   "metadata": {},
   "outputs": [
    {
     "name": "stdout",
     "output_type": "stream",
     "text": [
      "Hello world\n",
      "This is our first class\n"
     ]
    }
   ],
   "source": [
    "print('Hello world')\n",
    "#print('Welcome to python')\n",
    "print('This is our first class')"
   ]
  },
  {
   "cell_type": "code",
   "execution_count": 18,
   "metadata": {},
   "outputs": [
    {
     "name": "stdout",
     "output_type": "stream",
     "text": [
      "Hello-World\n"
     ]
    }
   ],
   "source": [
    "# i am a \n",
    "# multiline \n",
    "# comment \n",
    "# using '#' \n",
    "# at the beginning of\n",
    "# each line\n",
    "print('Hello-World')"
   ]
  },
  {
   "cell_type": "code",
   "execution_count": 97,
   "metadata": {},
   "outputs": [
    {
     "name": "stdout",
     "output_type": "stream",
     "text": [
      "Hello Hello Hello Hello Hello "
     ]
    }
   ],
   "source": [
    "'''this is known as doc string'''\n",
    "for i in range(5):\n",
    "    print(\"Hello\", end= ' ')"
   ]
  },
  {
   "cell_type": "markdown",
   "metadata": {},
   "source": [
    "\"\"\"\n",
    " ....\n",
    "\"\"\"\n",
    "is used to comment multiple lines of code"
   ]
  },
  {
   "cell_type": "code",
   "execution_count": 98,
   "metadata": {},
   "outputs": [
    {
     "name": "stdout",
     "output_type": "stream",
     "text": [
      "Hello world\n"
     ]
    }
   ],
   "source": [
    "'''\n",
    "i am a \n",
    "multiline \n",
    "comment \n",
    "using \n",
    "at the beginning of\n",
    "each line\n",
    "'''\n",
    "\"\"\" This is known as Doc String \"\"\"\n",
    "\n",
    "print('Hello world')"
   ]
  },
  {
   "cell_type": "code",
   "execution_count": 20,
   "metadata": {},
   "outputs": [
    {
     "name": "stdout",
     "output_type": "stream",
     "text": [
      "Hello world\n"
     ]
    }
   ],
   "source": [
    "'''\n",
    "i am a \n",
    "multiline \n",
    "comment \n",
    "using '#' \n",
    "at the beginning of\n",
    "each line\n",
    "'''\n",
    "print('Hello world')"
   ]
  },
  {
   "cell_type": "markdown",
   "metadata": {},
   "source": [
    "## input()\n",
    "* The input() function allows us to take input from the user."
   ]
  },
  {
   "cell_type": "code",
   "execution_count": 128,
   "metadata": {},
   "outputs": [
    {
     "name": "stdout",
     "output_type": "stream",
     "text": [
      "shwetashwetashwetashwetashweta\n"
     ]
    }
   ],
   "source": [
    "string1 = 5\n",
    "string2 = 'shweta'\n",
    "print(string1 * string2)\n",
    "# 1X5 = 5 , 5X1 = 5"
   ]
  },
  {
   "cell_type": "code",
   "execution_count": 113,
   "metadata": {},
   "outputs": [
    {
     "name": "stdout",
     "output_type": "stream",
     "text": [
      "Please enter your pincode : 560029\n",
      "<class 'str'>\n"
     ]
    }
   ],
   "source": [
    "# Ex1) ask name from the user\n",
    "# input() is a inbuilt function\n",
    "# () this is known as parenthesis\n",
    "name = input(\"Please enter your pincode : \")\n",
    "print(type(name))"
   ]
  },
  {
   "cell_type": "code",
   "execution_count": 109,
   "metadata": {},
   "outputs": [
    {
     "name": "stdout",
     "output_type": "stream",
     "text": [
      "Please enter your roll number ; 41\n",
      "<class 'int'>\n"
     ]
    }
   ],
   "source": [
    "name2 = input(\"Please enter your roll number ; \")\n",
    "name2 = int(name2)\n",
    "print(type(name2))"
   ]
  },
  {
   "cell_type": "code",
   "execution_count": 130,
   "metadata": {},
   "outputs": [
    {
     "name": "stdout",
     "output_type": "stream",
     "text": [
      "enter the first number : 10\n",
      "enter the second number : 10\n",
      "20\n"
     ]
    }
   ],
   "source": [
    "# Ex2) take two inputs(numbers) from user and add the numbers\n",
    "num1 = int(input(\"enter the first number : \"))\n",
    "num2 = int(input(\"enter the second number : \"))\n",
    "num3 = num1 + num2 \n",
    "print(num3)"
   ]
  },
  {
   "cell_type": "code",
   "execution_count": 137,
   "metadata": {},
   "outputs": [
    {
     "name": "stdout",
     "output_type": "stream",
     "text": [
      "Please Enter you Roll Number : 21\n",
      "<class 'str'>\n",
      "21\n",
      "<class 'int'>\n",
      "___________________________\n",
      "21\n",
      "<class 'str'>\n"
     ]
    }
   ],
   "source": [
    "roll_number = input(\"Please Enter you Roll Number : \")\n",
    "print(type(roll_number))\n",
    "roll_number = int(roll_number)\n",
    "print(roll_number)\n",
    "print(type(roll_number))\n",
    "print(\"___________________________\")\n",
    "roll_number = str(roll_number)\n",
    "print(roll_number)\n",
    "print(type(roll_number))"
   ]
  },
  {
   "cell_type": "code",
   "execution_count": null,
   "metadata": {},
   "outputs": [],
   "source": []
  },
  {
   "cell_type": "markdown",
   "metadata": {},
   "source": [
    "#### remember, whatever value user inputs is converted to string by default"
   ]
  },
  {
   "cell_type": "code",
   "execution_count": 23,
   "metadata": {},
   "outputs": [
    {
     "name": "stdout",
     "output_type": "stream",
     "text": [
      "type of num1 = <class 'str'> and num2 = <class 'str'> \n"
     ]
    }
   ],
   "source": [
    "# check the type\n",
    "print(\"type of num1 = {} and num2 = {} \".format(type(num1),type(num2)))\n",
    "\n",
    "# convert to int\n",
    "num1 = int(num1)\n",
    "num2 = int(num2)"
   ]
  },
  {
   "cell_type": "code",
   "execution_count": 24,
   "metadata": {},
   "outputs": [
    {
     "name": "stdout",
     "output_type": "stream",
     "text": [
      "11\n"
     ]
    }
   ],
   "source": [
    "# add and print\n",
    "num3 = num1 + num2 \n",
    "print(num3)"
   ]
  },
  {
   "cell_type": "code",
   "execution_count": 7,
   "metadata": {},
   "outputs": [
    {
     "name": "stdout",
     "output_type": "stream",
     "text": [
      "Please Enter Any Number : 4\n",
      "Please Enter Any Number : 4\n",
      "<class 'int'>\n",
      "<class 'int'>\n",
      "8\n"
     ]
    }
   ],
   "source": [
    "number_one = int(input(\"Please Enter Any Number : \"))\n",
    "number_two = int(input(\"Please Enter Any Number : \"))\n",
    "print(type(number_one))\n",
    "print(type(number_two))\n",
    "print(number_one + number_two )"
   ]
  },
  {
   "cell_type": "markdown",
   "metadata": {},
   "source": [
    "## String Indexing/Position"
   ]
  },
  {
   "cell_type": "code",
   "execution_count": 20,
   "metadata": {},
   "outputs": [],
   "source": [
    "# Swetha \n",
    "# S = 0 -6\n",
    "# W = 1 -5\n",
    "# E = 2 -4\n",
    "# T = 3 -3\n",
    "# H = 4 -2\n",
    "# A = 5 -1"
   ]
  },
  {
   "cell_type": "code",
   "execution_count": 31,
   "metadata": {},
   "outputs": [
    {
     "name": "stdout",
     "output_type": "stream",
     "text": [
      "wta\n"
     ]
    }
   ],
   "source": [
    "name = \"Swetha\"\n",
    "# Seh\n",
    "# w t a\n",
    "# [Start_argument : Stop_argument : Step_argument]\n",
    "print(name[1:6:2])\n"
   ]
  },
  {
   "cell_type": "code",
   "execution_count": null,
   "metadata": {},
   "outputs": [],
   "source": [
    "# \"Python\" == nohtyP"
   ]
  },
  {
   "cell_type": "code",
   "execution_count": 37,
   "metadata": {},
   "outputs": [
    {
     "name": "stdout",
     "output_type": "stream",
     "text": [
      "nohtyP Method 1\n",
      "nohtyP Method 2\n"
     ]
    }
   ],
   "source": [
    "name_two = \"Python\" # nohtyP\n",
    "print(name_two[::-1], \"Method 1\") # fastest way to reverse a string\n",
    "print(name_two[5::-1], \"Method 2\")"
   ]
  },
  {
   "cell_type": "code",
   "execution_count": 59,
   "metadata": {},
   "outputs": [
    {
     "data": {
      "text/plain": [
       "['Bob', 'Doremon', 'John', 'Swetha']"
      ]
     },
     "execution_count": 59,
     "metadata": {},
     "output_type": "execute_result"
    }
   ],
   "source": [
    "prod = [\"Swetha\", \"Bob\",\"John\", \"Doremon\" ]\n",
    "prod.sort() # sort() is a method of list class. Which means when we call it, it directly\n",
    "# changes the list \n",
    "prod"
   ]
  },
  {
   "cell_type": "markdown",
   "metadata": {},
   "source": [
    "# String Methods"
   ]
  },
  {
   "cell_type": "code",
   "execution_count": null,
   "metadata": {},
   "outputs": [],
   "source": [
    "# lower() -- method\n",
    "# upper() -- method\n",
    "# lstrip() -- method\n",
    "# rstrip() -- method\n",
    "# strip() -- method\n",
    "# title() -- method\n",
    "# count() -- method\n",
    "# len() -- function"
   ]
  },
  {
   "cell_type": "code",
   "execution_count": 64,
   "metadata": {},
   "outputs": [
    {
     "name": "stdout",
     "output_type": "stream",
     "text": [
      "swetha\n",
      "SWETHA\n"
     ]
    },
    {
     "data": {
      "text/plain": [
       "'swetha'"
      ]
     },
     "execution_count": 64,
     "metadata": {},
     "output_type": "execute_result"
    }
   ],
   "source": [
    "first_name = \"SwEtHa\"\n",
    "a = first_name.lower()\n",
    "print(first_name.lower())\n",
    "print(first_name.upper())\n",
    "a"
   ]
  },
  {
   "cell_type": "code",
   "execution_count": 84,
   "metadata": {},
   "outputs": [
    {
     "name": "stdout",
     "output_type": "stream",
     "text": [
      "swetha gazabare    ..............\n",
      "    swetha gazabare..............\n",
      "swetha gazabare..............\n",
      "swethagazabare\n",
      "    Swetha Gazabare    \n",
      "1\n"
     ]
    }
   ],
   "source": [
    "name = \"    swetha gazabare    \"\n",
    "dots = \"..............\"\n",
    "print(name.lstrip()+ dots)\n",
    "print(name.rstrip()+ dots)\n",
    "print(name.strip() + dots)\n",
    "print(name.replace(\" \",\"\"))\n",
    "print(name.title())\n",
    "print(name.count(\"z\"))"
   ]
  },
  {
   "cell_type": "code",
   "execution_count": 85,
   "metadata": {},
   "outputs": [
    {
     "name": "stdout",
     "output_type": "stream",
     "text": [
      "15\n"
     ]
    }
   ],
   "source": [
    "name = \"Swetha Gazabare\"\n",
    "print(len(name))"
   ]
  },
  {
   "cell_type": "code",
   "execution_count": 93,
   "metadata": {},
   "outputs": [
    {
     "name": "stdout",
     "output_type": "stream",
     "text": [
      "10\n"
     ]
    }
   ],
   "source": [
    "\n"
   ]
  },
  {
   "cell_type": "code",
   "execution_count": null,
   "metadata": {},
   "outputs": [],
   "source": [
    "# take two input from the user\n",
    "# 1. user name\n",
    "# 2. character which wants to count in his/her name\n",
    "# output\n",
    "# length of user's name \n",
    "# character count in his/her name case insensitive\n",
    "\n",
    "# Sujay Shekhar, s"
   ]
  },
  {
   "cell_type": "code",
   "execution_count": 98,
   "metadata": {},
   "outputs": [
    {
     "data": {
      "text/plain": [
       "0"
      ]
     },
     "execution_count": 98,
     "metadata": {},
     "output_type": "execute_result"
    }
   ],
   "source": [
    "# name = \"Sujay Shekhar\"\n",
    "# name.count(\"s\")"
   ]
  },
  {
   "cell_type": "code",
   "execution_count": 3,
   "metadata": {},
   "outputs": [
    {
     "name": "stdout",
     "output_type": "stream",
     "text": [
      "Enter your name and Character Seperated by Comma : Sujay Shekhar,s\n",
      "Your name length is : 12 and Character count in your name : 2 \n"
     ]
    }
   ],
   "source": [
    "name, char = input(\"Enter your name and Character Seperated by Comma : \").split(\",\")\n",
    "print(f'Your name length is : {len(name.replace(\" \", \"\"))} and Character count in your name : {name.lower().count(char.lower())} ')\n"
   ]
  },
  {
   "cell_type": "code",
   "execution_count": 15,
   "metadata": {},
   "outputs": [
    {
     "data": {
      "text/plain": [
       "'swetha'"
      ]
     },
     "execution_count": 15,
     "metadata": {},
     "output_type": "execute_result"
    }
   ],
   "source": [
    "var = \"SweTHa\"\n",
    "var.lower()"
   ]
  },
  {
   "cell_type": "code",
   "execution_count": null,
   "metadata": {},
   "outputs": [],
   "source": []
  },
  {
   "cell_type": "code",
   "execution_count": 16,
   "metadata": {},
   "outputs": [
    {
     "name": "stdout",
     "output_type": "stream",
     "text": [
      "Enter your name and character seperated by comma : SweTHa GazaBare,A\n",
      "Hello Mr/Ms SweTHa GazaBare. Length of your name is 14 and character count is 4\n"
     ]
    }
   ],
   "source": [
    "userName, character = input(\"Enter your name and character seperated by comma : \").split(\",\")\n",
    "lengthOfUserName = len(userName.replace(\" \", \"\"))\n",
    "lowerCaseUserName = userName.lower()\n",
    "lowerCaseCharacter = character.lower()\n",
    "characterCount = lowerCaseUserName.count(lowerCaseCharacter)\n",
    "print(f\"Hello Mr/Ms {userName}. Length of your name is {lengthOfUserName} and character count is {characterCount}\")"
   ]
  },
  {
   "cell_type": "code",
   "execution_count": 19,
   "metadata": {},
   "outputs": [
    {
     "name": "stdout",
     "output_type": "stream",
     "text": [
      "Enter your name and character seperated by comma : SweTHA,t\n",
      "Hello Mr/Ms SweTHA. Length of your name is 6 and character count is 1\n"
     ]
    }
   ],
   "source": [
    "userName, character = input(\"Enter your name and character seperated by comma : \").split(\",\")\n",
    "print(f'Hello Mr/Ms {userName}. Length of your name is {len(userName.replace(\" \",\"\"))} and character count is {userName.lower().count(character.lower())}')"
   ]
  },
  {
   "cell_type": "code",
   "execution_count": null,
   "metadata": {},
   "outputs": [],
   "source": [
    "# Take user input Ask for his/her name\n",
    "# print the reverse of their names. Try to make the program in 2 lines"
   ]
  },
  {
   "cell_type": "code",
   "execution_count": 28,
   "metadata": {},
   "outputs": [
    {
     "name": "stdout",
     "output_type": "stream",
     "text": [
      "swetha\n",
      "SweTHa\n"
     ]
    }
   ],
   "source": [
    "# String Immutable\n",
    "\n",
    "userName = \"SweTHa\"\n",
    "anotherVariable = userName.lower()\n",
    "userName.lower()\n",
    "print(anotherVariable)\n",
    "print(userName)"
   ]
  },
  {
   "cell_type": "markdown",
   "metadata": {},
   "source": [
    "# Conditionals If - Else statement :"
   ]
  },
  {
   "cell_type": "code",
   "execution_count": 34,
   "metadata": {},
   "outputs": [
    {
     "name": "stdout",
     "output_type": "stream",
     "text": [
      "What's your age ? 18\n",
      "You're allowed\n"
     ]
    }
   ],
   "source": [
    "userAge = int(input(\"What's your age ? \"))\n",
    "if userAge <= 14:\n",
    "    print(\"You're not allowed\") #indentation\n",
    "else:\n",
    "    print(\"You're allowed\")"
   ]
  },
  {
   "cell_type": "code",
   "execution_count": 42,
   "metadata": {},
   "outputs": [
    {
     "name": "stdout",
     "output_type": "stream",
     "text": [
      "Please Enter your ZipCode : 70004\n",
      "Unsuccessful\n"
     ]
    }
   ],
   "source": [
    "zipCode = input(\"Please Enter your ZipCode : \")\n",
    "if len(zipCode) == 6:\n",
    "    print(\"Successful\")\n",
    "else:\n",
    "    print(\"Unsuccessful\")"
   ]
  },
  {
   "cell_type": "code",
   "execution_count": 39,
   "metadata": {},
   "outputs": [
    {
     "name": "stdout",
     "output_type": "stream",
     "text": [
      "Please Enter a Number : 6\n",
      "EVEN number\n"
     ]
    }
   ],
   "source": [
    "# Make a program to check whether a number is ODD or EVEN.\n",
    "\n",
    "number = int(input(\"Please Enter a Number : \"))\n",
    "if (number%2) != 0:\n",
    "    print(\"ODD number\")\n",
    "else: \n",
    "    print(\"EVEN number\")"
   ]
  },
  {
   "cell_type": "code",
   "execution_count": null,
   "metadata": {},
   "outputs": [],
   "source": [
    "# Number Guessing Game\n",
    "# Ask user to input a number and check if it is matching the winning number or not\n",
    "# if the number is guessed is more than the winning number print too high\n",
    "# and if its less than the winning number print too low."
   ]
  },
  {
   "cell_type": "code",
   "execution_count": 49,
   "metadata": {},
   "outputs": [
    {
     "name": "stdout",
     "output_type": "stream",
     "text": [
      "Please Enter Any Number : 45\n",
      "***************Number Guessing Game*******************\n",
      "Too High\n"
     ]
    }
   ],
   "source": [
    "winning_number = 26\n",
    "numberInput = int(input(\"Please Enter Any Number : \"))\n",
    "print(\"***************Number Guessing Game*******************\")\n",
    "if numberInput == winning_number:\n",
    "    print(\"Hurrah!! You WON\")\n",
    "else: # nested if-else\n",
    "    if numberInput < winning_number:\n",
    "        print(\"Too Low\")\n",
    "    else:\n",
    "        print(\"Too High\")"
   ]
  },
  {
   "cell_type": "code",
   "execution_count": 58,
   "metadata": {},
   "outputs": [
    {
     "name": "stdout",
     "output_type": "stream",
     "text": [
      "Please Enter Any Number : 10\n",
      "***************Number Guessing Game*******************\n",
      "Too Low\n",
      "Please Enter Any Number : 20\n",
      "***************Number Guessing Game*******************\n",
      "Too High\n",
      "Please Enter Any Number : 15\n",
      "***************Number Guessing Game*******************\n",
      "Too High\n",
      "Please Enter Any Number : 13\n",
      "***************Number Guessing Game*******************\n",
      "Too High\n",
      "Please Enter Any Number : 12\n",
      "***************Number Guessing Game*******************\n",
      "Hurrah!! You WON\n"
     ]
    }
   ],
   "source": [
    "import random # random is the module name\n",
    "winning_number = random.randint(1,50)\n",
    "loop = True \n",
    "while loop: # Until the condition is True run infinitely\n",
    "    numberInput = int(input(\"Please Enter Any Number : \"))\n",
    "    print(\"***************Number Guessing Game*******************\")\n",
    "    if numberInput == winning_number:\n",
    "        print(\"Hurrah!! You WON\")\n",
    "        loop = False\n",
    "    else: \n",
    "        if numberInput < winning_number:\n",
    "            print(\"Too Low\")\n",
    "        else:\n",
    "            print(\"Too High\")"
   ]
  },
  {
   "cell_type": "code",
   "execution_count": 1,
   "metadata": {},
   "outputs": [],
   "source": [
    "sentence = \"Bitty bought some butter but the butter was so bitter that Bitty bought some better butter to make the bitter butter better\""
   ]
  },
  {
   "cell_type": "code",
   "execution_count": 2,
   "metadata": {},
   "outputs": [
    {
     "data": {
      "text/plain": [
       "18"
      ]
     },
     "execution_count": 2,
     "metadata": {},
     "output_type": "execute_result"
    }
   ],
   "source": [
    "sentence.find(\"butter\",18, 100)"
   ]
  },
  {
   "cell_type": "code",
   "execution_count": 3,
   "metadata": {},
   "outputs": [],
   "source": [
    "# AND, OR operator\n",
    "# check the condition at same time"
   ]
  },
  {
   "cell_type": "code",
   "execution_count": 16,
   "metadata": {},
   "outputs": [],
   "source": [
    "name = 'Swetha'\n",
    "age = 19 #'19'"
   ]
  },
  {
   "cell_type": "code",
   "execution_count": 17,
   "metadata": {},
   "outputs": [
    {
     "name": "stdout",
     "output_type": "stream",
     "text": [
      "Condition is TRUE\n"
     ]
    }
   ],
   "source": [
    "if name== \"swetha\" or age == 19:\n",
    "    print(\"Condition is TRUE\")\n",
    "else:\n",
    "    print(\"Condition is FALSE\")"
   ]
  },
  {
   "cell_type": "code",
   "execution_count": 18,
   "metadata": {},
   "outputs": [],
   "source": [
    "# Stranger Things !\n",
    "# Ask user name and age\n",
    "# IF user's name starts with 's' and 'S' and age is above 14\n",
    "# out put you can watch Stanger things\n",
    "# print( you cannot watch stanger things )"
   ]
  },
  {
   "cell_type": "code",
   "execution_count": 20,
   "metadata": {},
   "outputs": [
    {
     "name": "stdout",
     "output_type": "stream",
     "text": [
      "Please Enter your name : Sujay\n",
      "Please Enter your age : 23\n",
      "You can watch stranger things\n"
     ]
    }
   ],
   "source": [
    "userName = input(\"Please Enter your name : \")\n",
    "age = int(input(\"Please Enter your age : \"))\n",
    "if age > 14 and (userName[0] == 's' or userName[0] == 'S'):\n",
    "    print(\"You can watch stranger things\")\n",
    "else:\n",
    "    print(\"You cannot watch stranger things !!\")"
   ]
  },
  {
   "cell_type": "code",
   "execution_count": 21,
   "metadata": {},
   "outputs": [
    {
     "name": "stdout",
     "output_type": "stream",
     "text": [
      "Please Enter your name and age seperated by comma : Swetha,24\n",
      "You can watch stranger things\n"
     ]
    }
   ],
   "source": [
    "userName, age = input(\"Please Enter your name and age seperated by comma : \").split(',')\n",
    "if int(age) > 14 and (userName[0] == 's' or userName[0] == 'S'):\n",
    "    print(\"You can watch stranger things\")\n",
    "else:\n",
    "    print(\"You cannot watch stranger things !!\")"
   ]
  },
  {
   "cell_type": "code",
   "execution_count": null,
   "metadata": {},
   "outputs": [],
   "source": [
    "#if else and elif"
   ]
  },
  {
   "cell_type": "code",
   "execution_count": null,
   "metadata": {},
   "outputs": [],
   "source": [
    "# Make a movie ticket price program\n",
    "# 1 to 5 ( free )\n",
    "# 6 to 12 ( 100 INR)\n",
    "# 13 to 60 ( 250 INR)\n",
    "# above 60 ( 200 INR )"
   ]
  },
  {
   "cell_type": "code",
   "execution_count": 38,
   "metadata": {},
   "outputs": [
    {
     "name": "stdout",
     "output_type": "stream",
     "text": [
      "Please Enter your age : 100\n",
      "Please don't watch\n"
     ]
    }
   ],
   "source": [
    "age = int(input(\"Please Enter your age : \"))\n",
    "\n",
    "if age == 0 :\n",
    "    print(\"You cannot watch movie\")\n",
    "elif 1<=age<=5:\n",
    "    print(\"Ticket price : Free\")\n",
    "elif 6<age<=12:\n",
    "    print(\"Ticket Price : 100 INR\")\n",
    "elif 13< age <=60:\n",
    "    print(\"Ticket Price : 250 INR\")\n",
    "elif age >= 100:\n",
    "    print(\"Please don't watch\")\n",
    "else:\n",
    "    print(\"Ticket Price : 200 INR\")"
   ]
  },
  {
   "cell_type": "code",
   "execution_count": 41,
   "metadata": {},
   "outputs": [
    {
     "name": "stdout",
     "output_type": "stream",
     "text": [
      "YES\n"
     ]
    }
   ],
   "source": [
    "# IN keyword\n",
    "name = 'SwEtha'\n",
    "name = name.lower()\n",
    "if 'e' in name:\n",
    "    print(\"YES\")\n",
    "else :\n",
    "    print(\"NO\")"
   ]
  },
  {
   "cell_type": "code",
   "execution_count": 44,
   "metadata": {},
   "outputs": [
    {
     "name": "stdout",
     "output_type": "stream",
     "text": [
      "Yes\n"
     ]
    }
   ],
   "source": [
    "color = ['red', 'blue', 'green']\n",
    "if 'blue' in color:\n",
    "    print(\"Yes\")\n",
    "else:\n",
    "    print(\"No\")"
   ]
  },
  {
   "cell_type": "markdown",
   "metadata": {},
   "source": [
    "# While"
   ]
  },
  {
   "cell_type": "code",
   "execution_count": 3,
   "metadata": {
    "scrolled": true
   },
   "outputs": [
    {
     "name": "stdout",
     "output_type": "stream",
     "text": [
      "Swetha\n",
      "Swetha\n",
      "Swetha\n",
      "Swetha\n",
      "Swetha\n",
      "Swetha\n",
      "Swetha\n",
      "Swetha\n",
      "Swetha\n",
      "Swetha\n"
     ]
    }
   ],
   "source": [
    "i = 1\n",
    "while i <=10:\n",
    "    print(\"Swetha\")\n",
    "    i += 1 # i += 1 / i = i+1\n",
    " "
   ]
  },
  {
   "cell_type": "code",
   "execution_count": null,
   "metadata": {},
   "outputs": [],
   "source": [
    "# Make a program to print the sum of 1 to 10 (or any number)\n",
    "# 10 = 1 + 2 +3 +4 +5 +6 +7 +8 +9 +10\n",
    "# output =55"
   ]
  },
  {
   "cell_type": "code",
   "execution_count": 4,
   "metadata": {},
   "outputs": [
    {
     "name": "stdout",
     "output_type": "stream",
     "text": [
      "55\n"
     ]
    }
   ],
   "source": [
    "total = 0\n",
    "i = 1\n",
    "while i <= 10:\n",
    "    total = total + i\n",
    "    i = i + 1\n",
    "print(total)\n",
    "# 0 + 1 + 2 + 3 + 4 +5 +6 +7 +8 +9 +10 = 55"
   ]
  },
  {
   "cell_type": "code",
   "execution_count": null,
   "metadata": {},
   "outputs": [],
   "source": [
    "# sum of n natural numbers\n",
    "# ask the user for natural number (n)\n",
    "# print the total "
   ]
  },
  {
   "cell_type": "code",
   "execution_count": 5,
   "metadata": {},
   "outputs": [
    {
     "name": "stdout",
     "output_type": "stream",
     "text": [
      "Please Enter any number to get the sum : 100\n",
      "5050\n"
     ]
    }
   ],
   "source": [
    "n = int(input(\"Please Enter any number to get the sum : \"))\n",
    "total = 0\n",
    "i = 1\n",
    "while i <= n:\n",
    "    total = total + i\n",
    "    i = i + 1\n",
    "print(total)"
   ]
  },
  {
   "cell_type": "code",
   "execution_count": null,
   "metadata": {},
   "outputs": [],
   "source": [
    "# Ask user to enter a number containing more than one number 2022, 459848934 , 1235\n",
    "# example = 1234\n",
    "# output = 1 + 2 + 3 +4 =10 \n",
    "# example 2 = 3487\n",
    "# output = 3 + 4 + 8 + 7 = 22"
   ]
  },
  {
   "cell_type": "code",
   "execution_count": 12,
   "metadata": {},
   "outputs": [
    {
     "name": "stdout",
     "output_type": "stream",
     "text": [
      "Please Enter your number : 9876\n",
      "30\n"
     ]
    }
   ],
   "source": [
    "number = input(\"Please Enter your number : \")\n",
    "total = 0\n",
    "i = 0\n",
    "while i < len(number):\n",
    "    total = total + int(number[i])\n",
    "    i = i + 1\n",
    "print(total)    "
   ]
  },
  {
   "cell_type": "code",
   "execution_count": 11,
   "metadata": {},
   "outputs": [
    {
     "name": "stdout",
     "output_type": "stream",
     "text": [
      "<class 'int'>\n"
     ]
    }
   ],
   "source": [
    "number = '1234'\n",
    "test = number[0]\n",
    "test2 = int(number[0])\n",
    "print(type(test2))"
   ]
  },
  {
   "cell_type": "code",
   "execution_count": 2,
   "metadata": {},
   "outputs": [],
   "source": [
    "# Ask the user for his/her name\n",
    "# output character count of each characters in his/her name\n",
    "\n",
    "# S - 1\n",
    "# W - 1\n",
    "# E - 2\n",
    "# T - 1\n",
    "# H - 1\n",
    "# A - 4\n",
    "\n",
    "# G - 1\n",
    "# A - 4\n",
    "# Z - 1\n",
    "# A - 4\n",
    "# B - 1\n",
    "# A - 4\n",
    "# R - 1\n",
    "# E - 2"
   ]
  },
  {
   "cell_type": "code",
   "execution_count": 3,
   "metadata": {},
   "outputs": [
    {
     "name": "stdout",
     "output_type": "stream",
     "text": [
      "Enter your name please : Swetha Gazabare\n",
      "S - 1\n",
      "w - 1\n",
      "e - 2\n",
      "t - 1\n",
      "h - 1\n",
      "a - 4\n",
      "  - 1\n",
      "G - 1\n",
      "a - 4\n",
      "z - 1\n",
      "a - 4\n",
      "b - 1\n",
      "a - 4\n",
      "r - 1\n",
      "e - 2\n"
     ]
    }
   ],
   "source": [
    "userName = input(\"Enter your name please : \")\n",
    "i=0\n",
    "while i < len(userName):\n",
    "    print(f\"{userName[i]} - {userName.count(userName[i])}\")\n",
    "    i += 1 # i = i + 1"
   ]
  },
  {
   "cell_type": "code",
   "execution_count": 6,
   "metadata": {},
   "outputs": [
    {
     "name": "stdout",
     "output_type": "stream",
     "text": [
      "1\n",
      "u\n"
     ]
    }
   ],
   "source": [
    "userName = \"Sujay\"\n",
    "print(userName.count(userName[1]))\n",
    "print(userName[1])"
   ]
  },
  {
   "cell_type": "code",
   "execution_count": 9,
   "metadata": {},
   "outputs": [
    {
     "name": "stdout",
     "output_type": "stream",
     "text": [
      "Please enter you name  : swetha gazabare\n",
      "s - 1\n",
      "w - 1\n",
      "e - 2\n",
      "t - 1\n",
      "h - 1\n",
      "a - 4\n",
      "  - 1\n",
      "g - 1\n",
      "z - 1\n",
      "b - 1\n",
      "r - 1\n"
     ]
    }
   ],
   "source": [
    "userName = input(\"Please enter you name  : \")\n",
    "i = 0\n",
    "temp_var = \"\"\n",
    "while i < len(userName):\n",
    "    if userName[i] not in temp_var:\n",
    "        temp_var = temp_var + userName[i]\n",
    "        print(f\"{userName[i]} - {userName.count(userName[i])}\")\n",
    "    i += 1"
   ]
  },
  {
   "cell_type": "code",
   "execution_count": 10,
   "metadata": {},
   "outputs": [
    {
     "name": "stdout",
     "output_type": "stream",
     "text": [
      "0 Swetha\n",
      "1 Swetha\n",
      "2 Swetha\n",
      "3 Swetha\n",
      "4 Swetha\n",
      "5 Swetha\n",
      "6 Swetha\n",
      "7 Swetha\n",
      "8 Swetha\n",
      "9 Swetha\n",
      "10 Swetha\n"
     ]
    }
   ],
   "source": [
    "# for loop with range function\n",
    "# 10 time name \n",
    "for i in range(0,11):\n",
    "    print(f\"{i} Swetha\")"
   ]
  },
  {
   "cell_type": "code",
   "execution_count": 11,
   "metadata": {},
   "outputs": [
    {
     "name": "stdout",
     "output_type": "stream",
     "text": [
      "0 Swetha\n",
      "1 Swetha\n",
      "2 Swetha\n",
      "3 Swetha\n",
      "4 Swetha\n",
      "5 Swetha\n",
      "6 Swetha\n",
      "7 Swetha\n",
      "8 Swetha\n",
      "9 Swetha\n",
      "10 Swetha\n"
     ]
    }
   ],
   "source": [
    "i = 0\n",
    "while i <= 10:\n",
    "    print(f\"{i} Swetha\")\n",
    "    i += 1"
   ]
  },
  {
   "cell_type": "code",
   "execution_count": 31,
   "metadata": {},
   "outputs": [
    {
     "name": "stdout",
     "output_type": "stream",
     "text": [
      "***************Number Guessing Game*******************\n",
      "Please Enter Any Number : 50\n",
      "Too High\n",
      "Please Enter Any Number : 40\n",
      "Too Low\n",
      "Please Enter Any Number : 45\n",
      "Too Low\n",
      "Please Enter Any Number : 43\n",
      "Too Low\n",
      "Please Enter Any Number : 42\n",
      "Too Low\n",
      "Please Enter Any Number : 47\n",
      "Too High\n",
      "Please Enter Any Number : 46\n",
      "Hurrah!! You WON, you took 7 times to win the winning number was 46\n"
     ]
    }
   ],
   "source": [
    "import random # random is the module name\n",
    "winning_number = random.randint(1,50)\n",
    "guess = 1\n",
    "print(\"***************Number Guessing Game*******************\")\n",
    "while True: # Until the condition is True run infinitely\n",
    "    numberInput = int(input(\"Please Enter Any Number : \"))\n",
    "    if numberInput == winning_number:\n",
    "        print(f\"Hurrah!! You WON, you took {guess} times to win the winning number was {winning_number}\")\n",
    "        break\n",
    "    else: \n",
    "        if numberInput < winning_number:\n",
    "            print(\"Too Low\")\n",
    "        else:\n",
    "            print(\"Too High\")\n",
    "        guess += 1\n",
    "        continue\n",
    "# DRY - principle = do not repeat yourself."
   ]
  },
  {
   "cell_type": "code",
   "execution_count": 16,
   "metadata": {},
   "outputs": [],
   "source": [
    "# Hurrah !! yo won. you took 7 times to guess the number"
   ]
  },
  {
   "cell_type": "code",
   "execution_count": 30,
   "metadata": {},
   "outputs": [
    {
     "name": "stdout",
     "output_type": "stream",
     "text": [
      "Hello Mr/Ms : Swetha Gazabare\n",
      "Hello Mr/Ms : Swetha Gazabare you live in US\n"
     ]
    }
   ],
   "source": [
    "firstName = \"Swetha\"\n",
    "lastName = \"Gazabare\"\n",
    "thirdVar = \"US\"\n",
    "print(\"Hello Mr/Ms :\"+ \" \" + firstName + \" \" + lastName)\n",
    "print(f\"Hello Mr/Ms : {firstName} {lastName} you live in {thirdVar}\")"
   ]
  },
  {
   "cell_type": "code",
   "execution_count": null,
   "metadata": {},
   "outputs": [],
   "source": [
    "# For loop with range function"
   ]
  },
  {
   "cell_type": "code",
   "execution_count": 5,
   "metadata": {},
   "outputs": [
    {
     "name": "stdout",
     "output_type": "stream",
     "text": [
      "0 Hello World !\n",
      "1 Hello World !\n",
      "2 Hello World !\n",
      "3 Hello World !\n",
      "4 Hello World !\n",
      "5 Hello World !\n",
      "6 Hello World !\n",
      "7 Hello World !\n",
      "8 Hello World !\n",
      "9 Hello World !\n",
      "10 Hello World !\n"
     ]
    }
   ],
   "source": [
    "i = 0\n",
    "while i <= 10:\n",
    "    print(i, \"Hello World !\")\n",
    "    i += 1"
   ]
  },
  {
   "cell_type": "code",
   "execution_count": 9,
   "metadata": {},
   "outputs": [
    {
     "name": "stdout",
     "output_type": "stream",
     "text": [
      " 1 Hello World !\n",
      " 2 Hello World !\n",
      " 3 Hello World !\n",
      " 4 Hello World !\n",
      " 5 Hello World !\n",
      " 6 Hello World !\n",
      " 7 Hello World !\n",
      " 8 Hello World !\n",
      " 9 Hello World !\n",
      " 10 Hello World !\n"
     ]
    }
   ],
   "source": [
    "for i in range(1,11): # 0 to 9 # start , stop, step\n",
    "    print(f\"{i} Hello World !\")"
   ]
  },
  {
   "cell_type": "code",
   "execution_count": null,
   "metadata": {},
   "outputs": [],
   "source": [
    "# question : return sum of 1 to 10 , eg 1 + 2 + 3 + 4 .....+10 = 55\n",
    "# no should be asked from the user"
   ]
  },
  {
   "cell_type": "code",
   "execution_count": null,
   "metadata": {},
   "outputs": [],
   "source": [
    "# 1234 = 1+2+3+4 using for loop"
   ]
  },
  {
   "cell_type": "code",
   "execution_count": 12,
   "metadata": {},
   "outputs": [
    {
     "name": "stdout",
     "output_type": "stream",
     "text": [
      "Enter a number : 1111\n",
      "4\n"
     ]
    }
   ],
   "source": [
    "total = 0\n",
    "num = input(\"Enter a number : \")\n",
    "for i in range(0, len(num)):\n",
    "    total +=  int(num[i])\n",
    "print(total)"
   ]
  },
  {
   "cell_type": "code",
   "execution_count": 16,
   "metadata": {},
   "outputs": [
    {
     "name": "stdout",
     "output_type": "stream",
     "text": [
      "12\n",
      "**********\n",
      "3\n"
     ]
    }
   ],
   "source": [
    "stOne = '1'\n",
    "stTwo = '2'\n",
    "print(stOne + stTwo)\n",
    "print(\"*\"*10)\n",
    "print(int(stOne) + int(stTwo))"
   ]
  },
  {
   "cell_type": "code",
   "execution_count": null,
   "metadata": {},
   "outputs": [],
   "source": [
    "# KISS == Keep it simple stupid."
   ]
  },
  {
   "cell_type": "code",
   "execution_count": null,
   "metadata": {},
   "outputs": [],
   "source": []
  },
  {
   "cell_type": "code",
   "execution_count": 9,
   "metadata": {},
   "outputs": [
    {
     "data": {
      "text/plain": [
       "'hello world'"
      ]
     },
     "execution_count": 9,
     "metadata": {},
     "output_type": "execute_result"
    }
   ],
   "source": [
    "def greeting():\n",
    "    return 'hello world'\n",
    "greeting()"
   ]
  },
  {
   "cell_type": "code",
   "execution_count": 10,
   "metadata": {},
   "outputs": [
    {
     "name": "stdout",
     "output_type": "stream",
     "text": [
      "Enter first number : 2\n",
      "Enter second number : 3\n",
      "5\n"
     ]
    }
   ],
   "source": [
    "def add_two_numbers(a,b): #a and b arguments\n",
    "    return a + b\n",
    "num_one = int(input(\"Enter first number : \"))\n",
    "num_two = int(input(\"Enter second number : \"))\n",
    "total = add_two_numbers(num_one, num_two)\n",
    "print(total)"
   ]
  },
  {
   "cell_type": "code",
   "execution_count": 14,
   "metadata": {},
   "outputs": [
    {
     "name": "stdout",
     "output_type": "stream",
     "text": [
      "e\n"
     ]
    }
   ],
   "source": [
    "# MAKE A FUNCTION WHICH SHOULD RETURN THE LAST CHARACTER OF MY NAME\n",
    "def last_character(name):\n",
    "    return name[-1]\n",
    "print(last_character('Swetha Gazabare'))"
   ]
  },
  {
   "cell_type": "code",
   "execution_count": 15,
   "metadata": {},
   "outputs": [],
   "source": [
    "# a+b+c+d = ? "
   ]
  },
  {
   "cell_type": "code",
   "execution_count": 3,
   "metadata": {},
   "outputs": [
    {
     "name": "stdout",
     "output_type": "stream",
     "text": [
      "14\n"
     ]
    }
   ],
   "source": [
    "def add_numbers(w,x,y,z):\n",
    "    return w+x+y+z\n",
    "\n",
    "print(add_numbers(2,3,4,5))"
   ]
  },
  {
   "cell_type": "code",
   "execution_count": 4,
   "metadata": {},
   "outputs": [
    {
     "name": "stdout",
     "output_type": "stream",
     "text": [
      "100\n"
     ]
    }
   ],
   "source": [
    "print(add_numbers(10,20,30,40))"
   ]
  },
  {
   "cell_type": "code",
   "execution_count": 39,
   "metadata": {},
   "outputs": [
    {
     "name": "stdout",
     "output_type": "stream",
     "text": [
      "Even\n"
     ]
    }
   ],
   "source": [
    "def odd_even_one(n):\n",
    "    if (n%2) == 0:\n",
    "        return 'Even'\n",
    "    else:\n",
    "        return 'Odd'\n",
    "    \n",
    "print(odd_even_one(4))"
   ]
  },
  {
   "cell_type": "code",
   "execution_count": 40,
   "metadata": {},
   "outputs": [
    {
     "name": "stdout",
     "output_type": "stream",
     "text": [
      "Even\n"
     ]
    }
   ],
   "source": [
    "def odd_even_two(n):\n",
    "    if (n%2) == 0:\n",
    "        return 'Even'\n",
    "    return 'Odd'\n",
    "    \n",
    "print(odd_even_two(4))"
   ]
  },
  {
   "cell_type": "code",
   "execution_count": 41,
   "metadata": {},
   "outputs": [
    {
     "name": "stdout",
     "output_type": "stream",
     "text": [
      "True\n"
     ]
    }
   ],
   "source": [
    "def odd_even_three(n):\n",
    "    if n%2 == 0:\n",
    "        return True\n",
    "    return False\n",
    "    \n",
    "print(odd_even_three(4))"
   ]
  },
  {
   "cell_type": "code",
   "execution_count": 42,
   "metadata": {},
   "outputs": [
    {
     "name": "stdout",
     "output_type": "stream",
     "text": [
      "False\n"
     ]
    }
   ],
   "source": [
    "def odd_even_four(n):\n",
    "    return n%2==0\n",
    "print(odd_even_four(3))"
   ]
  },
  {
   "cell_type": "code",
   "execution_count": null,
   "metadata": {},
   "outputs": [],
   "source": [
    "# define a function which take two numbers as input and return greater of two numbers"
   ]
  },
  {
   "cell_type": "code",
   "execution_count": 47,
   "metadata": {},
   "outputs": [],
   "source": [
    "def greater(x,y):\n",
    "    if x > y:\n",
    "        return x\n",
    "    return y"
   ]
  },
  {
   "cell_type": "code",
   "execution_count": null,
   "metadata": {},
   "outputs": [],
   "source": []
  },
  {
   "cell_type": "code",
   "execution_count": 48,
   "metadata": {},
   "outputs": [
    {
     "name": "stdout",
     "output_type": "stream",
     "text": [
      "60\n"
     ]
    }
   ],
   "source": [
    "def greatest(a,b,c):\n",
    "    if a>b and a>c:\n",
    "        return a\n",
    "    elif b >a and b >c:\n",
    "        return b\n",
    "    return c\n",
    "print(greatest(40,60,30))"
   ]
  },
  {
   "cell_type": "code",
   "execution_count": 49,
   "metadata": {},
   "outputs": [],
   "source": [
    "# Function Inside a function"
   ]
  },
  {
   "cell_type": "code",
   "execution_count": 51,
   "metadata": {},
   "outputs": [
    {
     "name": "stdout",
     "output_type": "stream",
     "text": [
      "112\n"
     ]
    }
   ],
   "source": [
    "def greatest_two(a,b,c):\n",
    "    bigger = greater(a,b) # 111\n",
    "    return greater(bigger,c) #(111, 112)\n",
    "print(greatest_two(11,111,112))"
   ]
  },
  {
   "cell_type": "code",
   "execution_count": 52,
   "metadata": {},
   "outputs": [
    {
     "name": "stdout",
     "output_type": "stream",
     "text": [
      "16\n"
     ]
    }
   ],
   "source": [
    "def greatest_three(a,b,c):\n",
    "    return greater(greater(a,b), c)\n",
    "print(greatest_three(12,14,16))"
   ]
  },
  {
   "cell_type": "code",
   "execution_count": null,
   "metadata": {},
   "outputs": [],
   "source": [
    "# define a function that take one word in string as input and return True if it is palindrome else return False\n",
    "# \"madam\" ---- \"madam\" == True\n",
    "# \"Horse\" ---- \"esroH\" == False\n",
    "\n",
    "# Bonus : Try to make it in two lines"
   ]
  },
  {
   "cell_type": "code",
   "execution_count": null,
   "metadata": {},
   "outputs": [],
   "source": []
  },
  {
   "cell_type": "code",
   "execution_count": null,
   "metadata": {},
   "outputs": [],
   "source": []
  }
 ],
 "metadata": {
  "kernelspec": {
   "display_name": "Python 3",
   "language": "python",
   "name": "python3"
  },
  "language_info": {
   "codemirror_mode": {
    "name": "ipython",
    "version": 3
   },
   "file_extension": ".py",
   "mimetype": "text/x-python",
   "name": "python",
   "nbconvert_exporter": "python",
   "pygments_lexer": "ipython3",
   "version": "3.8.8"
  }
 },
 "nbformat": 4,
 "nbformat_minor": 2
}
